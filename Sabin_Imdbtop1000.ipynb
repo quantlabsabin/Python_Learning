{
  "nbformat": 4,
  "nbformat_minor": 0,
  "metadata": {
    "colab": {
      "provenance": [],
      "include_colab_link": true
    },
    "kernelspec": {
      "name": "python3",
      "display_name": "Python 3"
    },
    "language_info": {
      "name": "python"
    }
  },
  "cells": [
    {
      "cell_type": "markdown",
      "metadata": {
        "id": "view-in-github",
        "colab_type": "text"
      },
      "source": [
        "<a href=\"https://colab.research.google.com/github/quantlabsabin/Python_Learning/blob/Takeo_Projects/Sabin_Imdbtop1000.ipynb\" target=\"_parent\"><img src=\"https://colab.research.google.com/assets/colab-badge.svg\" alt=\"Open In Colab\"/></a>"
      ]
    },
    {
      "cell_type": "code",
      "execution_count": null,
      "metadata": {
        "id": "zLj0E8L7ZQm_"
      },
      "outputs": [],
      "source": [
        "#IMDB top 1000 movies"
      ]
    },
    {
      "cell_type": "code",
      "source": [
        "#importing libraries\n",
        "import pandas as pd\n",
        "import numpy as np\n",
        "import matplotlib.pyplot as plt"
      ],
      "metadata": {
        "id": "BP6ljIujfCBN"
      },
      "execution_count": null,
      "outputs": []
    },
    {
      "cell_type": "code",
      "source": [
        "df = pd.read_csv(\"/content/IMDB top 1000.csv\")\n",
        "df.head(3)"
      ],
      "metadata": {
        "colab": {
          "base_uri": "https://localhost:8080/",
          "height": 257
        },
        "id": "1aAYLyGbZhPp",
        "outputId": "6477fb74-7126-40fd-cd6c-72f7c725ccb5"
      },
      "execution_count": null,
      "outputs": [
        {
          "output_type": "execute_result",
          "data": {
            "text/plain": [
              "   Unnamed: 0                               Title Certificate Duration  \\\n",
              "0           0  1. The Shawshank Redemption (1994)           R  142 min   \n",
              "1           1             2. The Godfather (1972)           R  175 min   \n",
              "2           2           3. The Dark Knight (2008)       PG-13  152 min   \n",
              "\n",
              "                  Genre  Rate  Metascore  \\\n",
              "0                 Drama   9.3       80.0   \n",
              "1          Crime, Drama   9.2      100.0   \n",
              "2  Action, Crime, Drama   9.0       84.0   \n",
              "\n",
              "                                         Description  \\\n",
              "0  Two imprisoned men bond over a number of years...   \n",
              "1  The aging patriarch of an organized crime dyna...   \n",
              "2  When the menace known as the Joker wreaks havo...   \n",
              "\n",
              "                                                Cast  \\\n",
              "0  Director: Frank Darabont | Stars: Tim Robbins,...   \n",
              "1  Director: Francis Ford Coppola | Stars: Marlon...   \n",
              "2  Director: Christopher Nolan | Stars: Christian...   \n",
              "\n",
              "                                 Info  \n",
              "0   Votes: 2,295,987 | Gross: $28.34M  \n",
              "1  Votes: 1,584,782 | Gross: $134.97M  \n",
              "2  Votes: 2,260,649 | Gross: $534.86M  "
            ],
            "text/html": [
              "\n",
              "  <div id=\"df-d989b6bf-3972-4685-9415-176140669aca\">\n",
              "    <div class=\"colab-df-container\">\n",
              "      <div>\n",
              "<style scoped>\n",
              "    .dataframe tbody tr th:only-of-type {\n",
              "        vertical-align: middle;\n",
              "    }\n",
              "\n",
              "    .dataframe tbody tr th {\n",
              "        vertical-align: top;\n",
              "    }\n",
              "\n",
              "    .dataframe thead th {\n",
              "        text-align: right;\n",
              "    }\n",
              "</style>\n",
              "<table border=\"1\" class=\"dataframe\">\n",
              "  <thead>\n",
              "    <tr style=\"text-align: right;\">\n",
              "      <th></th>\n",
              "      <th>Unnamed: 0</th>\n",
              "      <th>Title</th>\n",
              "      <th>Certificate</th>\n",
              "      <th>Duration</th>\n",
              "      <th>Genre</th>\n",
              "      <th>Rate</th>\n",
              "      <th>Metascore</th>\n",
              "      <th>Description</th>\n",
              "      <th>Cast</th>\n",
              "      <th>Info</th>\n",
              "    </tr>\n",
              "  </thead>\n",
              "  <tbody>\n",
              "    <tr>\n",
              "      <th>0</th>\n",
              "      <td>0</td>\n",
              "      <td>1. The Shawshank Redemption (1994)</td>\n",
              "      <td>R</td>\n",
              "      <td>142 min</td>\n",
              "      <td>Drama</td>\n",
              "      <td>9.3</td>\n",
              "      <td>80.0</td>\n",
              "      <td>Two imprisoned men bond over a number of years...</td>\n",
              "      <td>Director: Frank Darabont | Stars: Tim Robbins,...</td>\n",
              "      <td>Votes: 2,295,987 | Gross: $28.34M</td>\n",
              "    </tr>\n",
              "    <tr>\n",
              "      <th>1</th>\n",
              "      <td>1</td>\n",
              "      <td>2. The Godfather (1972)</td>\n",
              "      <td>R</td>\n",
              "      <td>175 min</td>\n",
              "      <td>Crime, Drama</td>\n",
              "      <td>9.2</td>\n",
              "      <td>100.0</td>\n",
              "      <td>The aging patriarch of an organized crime dyna...</td>\n",
              "      <td>Director: Francis Ford Coppola | Stars: Marlon...</td>\n",
              "      <td>Votes: 1,584,782 | Gross: $134.97M</td>\n",
              "    </tr>\n",
              "    <tr>\n",
              "      <th>2</th>\n",
              "      <td>2</td>\n",
              "      <td>3. The Dark Knight (2008)</td>\n",
              "      <td>PG-13</td>\n",
              "      <td>152 min</td>\n",
              "      <td>Action, Crime, Drama</td>\n",
              "      <td>9.0</td>\n",
              "      <td>84.0</td>\n",
              "      <td>When the menace known as the Joker wreaks havo...</td>\n",
              "      <td>Director: Christopher Nolan | Stars: Christian...</td>\n",
              "      <td>Votes: 2,260,649 | Gross: $534.86M</td>\n",
              "    </tr>\n",
              "  </tbody>\n",
              "</table>\n",
              "</div>\n",
              "      <button class=\"colab-df-convert\" onclick=\"convertToInteractive('df-d989b6bf-3972-4685-9415-176140669aca')\"\n",
              "              title=\"Convert this dataframe to an interactive table.\"\n",
              "              style=\"display:none;\">\n",
              "        \n",
              "  <svg xmlns=\"http://www.w3.org/2000/svg\" height=\"24px\"viewBox=\"0 0 24 24\"\n",
              "       width=\"24px\">\n",
              "    <path d=\"M0 0h24v24H0V0z\" fill=\"none\"/>\n",
              "    <path d=\"M18.56 5.44l.94 2.06.94-2.06 2.06-.94-2.06-.94-.94-2.06-.94 2.06-2.06.94zm-11 1L8.5 8.5l.94-2.06 2.06-.94-2.06-.94L8.5 2.5l-.94 2.06-2.06.94zm10 10l.94 2.06.94-2.06 2.06-.94-2.06-.94-.94-2.06-.94 2.06-2.06.94z\"/><path d=\"M17.41 7.96l-1.37-1.37c-.4-.4-.92-.59-1.43-.59-.52 0-1.04.2-1.43.59L10.3 9.45l-7.72 7.72c-.78.78-.78 2.05 0 2.83L4 21.41c.39.39.9.59 1.41.59.51 0 1.02-.2 1.41-.59l7.78-7.78 2.81-2.81c.8-.78.8-2.07 0-2.86zM5.41 20L4 18.59l7.72-7.72 1.47 1.35L5.41 20z\"/>\n",
              "  </svg>\n",
              "      </button>\n",
              "      \n",
              "  <style>\n",
              "    .colab-df-container {\n",
              "      display:flex;\n",
              "      flex-wrap:wrap;\n",
              "      gap: 12px;\n",
              "    }\n",
              "\n",
              "    .colab-df-convert {\n",
              "      background-color: #E8F0FE;\n",
              "      border: none;\n",
              "      border-radius: 50%;\n",
              "      cursor: pointer;\n",
              "      display: none;\n",
              "      fill: #1967D2;\n",
              "      height: 32px;\n",
              "      padding: 0 0 0 0;\n",
              "      width: 32px;\n",
              "    }\n",
              "\n",
              "    .colab-df-convert:hover {\n",
              "      background-color: #E2EBFA;\n",
              "      box-shadow: 0px 1px 2px rgba(60, 64, 67, 0.3), 0px 1px 3px 1px rgba(60, 64, 67, 0.15);\n",
              "      fill: #174EA6;\n",
              "    }\n",
              "\n",
              "    [theme=dark] .colab-df-convert {\n",
              "      background-color: #3B4455;\n",
              "      fill: #D2E3FC;\n",
              "    }\n",
              "\n",
              "    [theme=dark] .colab-df-convert:hover {\n",
              "      background-color: #434B5C;\n",
              "      box-shadow: 0px 1px 3px 1px rgba(0, 0, 0, 0.15);\n",
              "      filter: drop-shadow(0px 1px 2px rgba(0, 0, 0, 0.3));\n",
              "      fill: #FFFFFF;\n",
              "    }\n",
              "  </style>\n",
              "\n",
              "      <script>\n",
              "        const buttonEl =\n",
              "          document.querySelector('#df-d989b6bf-3972-4685-9415-176140669aca button.colab-df-convert');\n",
              "        buttonEl.style.display =\n",
              "          google.colab.kernel.accessAllowed ? 'block' : 'none';\n",
              "\n",
              "        async function convertToInteractive(key) {\n",
              "          const element = document.querySelector('#df-d989b6bf-3972-4685-9415-176140669aca');\n",
              "          const dataTable =\n",
              "            await google.colab.kernel.invokeFunction('convertToInteractive',\n",
              "                                                     [key], {});\n",
              "          if (!dataTable) return;\n",
              "\n",
              "          const docLinkHtml = 'Like what you see? Visit the ' +\n",
              "            '<a target=\"_blank\" href=https://colab.research.google.com/notebooks/data_table.ipynb>data table notebook</a>'\n",
              "            + ' to learn more about interactive tables.';\n",
              "          element.innerHTML = '';\n",
              "          dataTable['output_type'] = 'display_data';\n",
              "          await google.colab.output.renderOutput(dataTable, element);\n",
              "          const docLink = document.createElement('div');\n",
              "          docLink.innerHTML = docLinkHtml;\n",
              "          element.appendChild(docLink);\n",
              "        }\n",
              "      </script>\n",
              "    </div>\n",
              "  </div>\n",
              "  "
            ]
          },
          "metadata": {},
          "execution_count": 5
        }
      ]
    },
    {
      "cell_type": "code",
      "source": [
        "df.shape #(1000 observations, 10 columns)\n",
        "print(df.dtypes)"
      ],
      "metadata": {
        "colab": {
          "base_uri": "https://localhost:8080/"
        },
        "id": "tfpWftZ2d0iL",
        "outputId": "34778c71-0a7d-4652-c12b-8143a13c3ff6"
      },
      "execution_count": null,
      "outputs": [
        {
          "output_type": "stream",
          "name": "stdout",
          "text": [
            "Unnamed: 0       int64\n",
            "Title           object\n",
            "Certificate     object\n",
            "Duration        object\n",
            "Genre           object\n",
            "Rate           float64\n",
            "Metascore      float64\n",
            "Description     object\n",
            "Cast            object\n",
            "Info            object\n",
            "dtype: object\n"
          ]
        }
      ]
    },
    {
      "cell_type": "code",
      "source": [
        "#check missing values\n",
        "df.isna().sum()"
      ],
      "metadata": {
        "colab": {
          "base_uri": "https://localhost:8080/"
        },
        "id": "BkPP6meVd2Sr",
        "outputId": "e0294e81-71fe-4886-d16b-8611a9f1a6d2"
      },
      "execution_count": null,
      "outputs": [
        {
          "output_type": "execute_result",
          "data": {
            "text/plain": [
              "Unnamed: 0       0\n",
              "Title            0\n",
              "Certificate     27\n",
              "Duration         0\n",
              "Genre            0\n",
              "Rate             0\n",
              "Metascore      288\n",
              "Description      0\n",
              "Cast             0\n",
              "Info             0\n",
              "dtype: int64"
            ]
          },
          "metadata": {},
          "execution_count": 7
        }
      ]
    },
    {
      "cell_type": "code",
      "source": [
        "#printing out missing values to see if they record 'NaN' or something else\n",
        "miss_values = df[df['Certificate'].isna()]\n",
        "miss_values.head(4)"
      ],
      "metadata": {
        "colab": {
          "base_uri": "https://localhost:8080/",
          "height": 305
        },
        "id": "DkWMJdR0hP8p",
        "outputId": "52e5ded8-e429-4c60-e182-773a72cf21ec"
      },
      "execution_count": null,
      "outputs": [
        {
          "output_type": "execute_result",
          "data": {
            "text/plain": [
              "     Unnamed: 0                                 Title Certificate Duration  \\\n",
              "54           54  55. Ayla: The Daughter of War (2017)         NaN  125 min   \n",
              "90           90         91. 7 Kogustaki Mucize (2019)         NaN  132 min   \n",
              "91           91       92. My Father and My Son (2005)         NaN  112 min   \n",
              "128         128                129. Chhichhore (2019)         NaN  143 min   \n",
              "\n",
              "                         Genre  Rate  Metascore  \\\n",
              "54   Biography, Drama, History   8.4        NaN   \n",
              "90                       Drama   8.3        NaN   \n",
              "91               Drama, Family   8.3        NaN   \n",
              "128              Comedy, Drama   8.2        NaN   \n",
              "\n",
              "                                           Description  \\\n",
              "54   In 1950, amid-st the ravages of the Korean War...   \n",
              "90   A story of love between a mentally-ill father ...   \n",
              "91   The family of a left-wing journalist is torn a...   \n",
              "128  A tragic incident forces Anirudh, a middle-age...   \n",
              "\n",
              "                                                  Cast  \\\n",
              "54   Director: Can Ulkay | Stars: Çetin Tekindor, I...   \n",
              "90   Director: Mehmet Ada Öztekin | Stars: Aras Bul...   \n",
              "91   Director: Çagan Irmak | Stars: Çetin Tekindor,...   \n",
              "128  Director: Nitesh Tiwari | Stars: Sushant Singh...   \n",
              "\n",
              "                              Info  \n",
              "54                   Votes: 32,732  \n",
              "90                   Votes: 30,188  \n",
              "91                   Votes: 76,924  \n",
              "128  Votes: 30,676 | Gross: $0.90M  "
            ],
            "text/html": [
              "\n",
              "  <div id=\"df-671cf9a5-a72f-4ef4-a8ef-814f74fc14e2\">\n",
              "    <div class=\"colab-df-container\">\n",
              "      <div>\n",
              "<style scoped>\n",
              "    .dataframe tbody tr th:only-of-type {\n",
              "        vertical-align: middle;\n",
              "    }\n",
              "\n",
              "    .dataframe tbody tr th {\n",
              "        vertical-align: top;\n",
              "    }\n",
              "\n",
              "    .dataframe thead th {\n",
              "        text-align: right;\n",
              "    }\n",
              "</style>\n",
              "<table border=\"1\" class=\"dataframe\">\n",
              "  <thead>\n",
              "    <tr style=\"text-align: right;\">\n",
              "      <th></th>\n",
              "      <th>Unnamed: 0</th>\n",
              "      <th>Title</th>\n",
              "      <th>Certificate</th>\n",
              "      <th>Duration</th>\n",
              "      <th>Genre</th>\n",
              "      <th>Rate</th>\n",
              "      <th>Metascore</th>\n",
              "      <th>Description</th>\n",
              "      <th>Cast</th>\n",
              "      <th>Info</th>\n",
              "    </tr>\n",
              "  </thead>\n",
              "  <tbody>\n",
              "    <tr>\n",
              "      <th>54</th>\n",
              "      <td>54</td>\n",
              "      <td>55. Ayla: The Daughter of War (2017)</td>\n",
              "      <td>NaN</td>\n",
              "      <td>125 min</td>\n",
              "      <td>Biography, Drama, History</td>\n",
              "      <td>8.4</td>\n",
              "      <td>NaN</td>\n",
              "      <td>In 1950, amid-st the ravages of the Korean War...</td>\n",
              "      <td>Director: Can Ulkay | Stars: Çetin Tekindor, I...</td>\n",
              "      <td>Votes: 32,732</td>\n",
              "    </tr>\n",
              "    <tr>\n",
              "      <th>90</th>\n",
              "      <td>90</td>\n",
              "      <td>91. 7 Kogustaki Mucize (2019)</td>\n",
              "      <td>NaN</td>\n",
              "      <td>132 min</td>\n",
              "      <td>Drama</td>\n",
              "      <td>8.3</td>\n",
              "      <td>NaN</td>\n",
              "      <td>A story of love between a mentally-ill father ...</td>\n",
              "      <td>Director: Mehmet Ada Öztekin | Stars: Aras Bul...</td>\n",
              "      <td>Votes: 30,188</td>\n",
              "    </tr>\n",
              "    <tr>\n",
              "      <th>91</th>\n",
              "      <td>91</td>\n",
              "      <td>92. My Father and My Son (2005)</td>\n",
              "      <td>NaN</td>\n",
              "      <td>112 min</td>\n",
              "      <td>Drama, Family</td>\n",
              "      <td>8.3</td>\n",
              "      <td>NaN</td>\n",
              "      <td>The family of a left-wing journalist is torn a...</td>\n",
              "      <td>Director: Çagan Irmak | Stars: Çetin Tekindor,...</td>\n",
              "      <td>Votes: 76,924</td>\n",
              "    </tr>\n",
              "    <tr>\n",
              "      <th>128</th>\n",
              "      <td>128</td>\n",
              "      <td>129. Chhichhore (2019)</td>\n",
              "      <td>NaN</td>\n",
              "      <td>143 min</td>\n",
              "      <td>Comedy, Drama</td>\n",
              "      <td>8.2</td>\n",
              "      <td>NaN</td>\n",
              "      <td>A tragic incident forces Anirudh, a middle-age...</td>\n",
              "      <td>Director: Nitesh Tiwari | Stars: Sushant Singh...</td>\n",
              "      <td>Votes: 30,676 | Gross: $0.90M</td>\n",
              "    </tr>\n",
              "  </tbody>\n",
              "</table>\n",
              "</div>\n",
              "      <button class=\"colab-df-convert\" onclick=\"convertToInteractive('df-671cf9a5-a72f-4ef4-a8ef-814f74fc14e2')\"\n",
              "              title=\"Convert this dataframe to an interactive table.\"\n",
              "              style=\"display:none;\">\n",
              "        \n",
              "  <svg xmlns=\"http://www.w3.org/2000/svg\" height=\"24px\"viewBox=\"0 0 24 24\"\n",
              "       width=\"24px\">\n",
              "    <path d=\"M0 0h24v24H0V0z\" fill=\"none\"/>\n",
              "    <path d=\"M18.56 5.44l.94 2.06.94-2.06 2.06-.94-2.06-.94-.94-2.06-.94 2.06-2.06.94zm-11 1L8.5 8.5l.94-2.06 2.06-.94-2.06-.94L8.5 2.5l-.94 2.06-2.06.94zm10 10l.94 2.06.94-2.06 2.06-.94-2.06-.94-.94-2.06-.94 2.06-2.06.94z\"/><path d=\"M17.41 7.96l-1.37-1.37c-.4-.4-.92-.59-1.43-.59-.52 0-1.04.2-1.43.59L10.3 9.45l-7.72 7.72c-.78.78-.78 2.05 0 2.83L4 21.41c.39.39.9.59 1.41.59.51 0 1.02-.2 1.41-.59l7.78-7.78 2.81-2.81c.8-.78.8-2.07 0-2.86zM5.41 20L4 18.59l7.72-7.72 1.47 1.35L5.41 20z\"/>\n",
              "  </svg>\n",
              "      </button>\n",
              "      \n",
              "  <style>\n",
              "    .colab-df-container {\n",
              "      display:flex;\n",
              "      flex-wrap:wrap;\n",
              "      gap: 12px;\n",
              "    }\n",
              "\n",
              "    .colab-df-convert {\n",
              "      background-color: #E8F0FE;\n",
              "      border: none;\n",
              "      border-radius: 50%;\n",
              "      cursor: pointer;\n",
              "      display: none;\n",
              "      fill: #1967D2;\n",
              "      height: 32px;\n",
              "      padding: 0 0 0 0;\n",
              "      width: 32px;\n",
              "    }\n",
              "\n",
              "    .colab-df-convert:hover {\n",
              "      background-color: #E2EBFA;\n",
              "      box-shadow: 0px 1px 2px rgba(60, 64, 67, 0.3), 0px 1px 3px 1px rgba(60, 64, 67, 0.15);\n",
              "      fill: #174EA6;\n",
              "    }\n",
              "\n",
              "    [theme=dark] .colab-df-convert {\n",
              "      background-color: #3B4455;\n",
              "      fill: #D2E3FC;\n",
              "    }\n",
              "\n",
              "    [theme=dark] .colab-df-convert:hover {\n",
              "      background-color: #434B5C;\n",
              "      box-shadow: 0px 1px 3px 1px rgba(0, 0, 0, 0.15);\n",
              "      filter: drop-shadow(0px 1px 2px rgba(0, 0, 0, 0.3));\n",
              "      fill: #FFFFFF;\n",
              "    }\n",
              "  </style>\n",
              "\n",
              "      <script>\n",
              "        const buttonEl =\n",
              "          document.querySelector('#df-671cf9a5-a72f-4ef4-a8ef-814f74fc14e2 button.colab-df-convert');\n",
              "        buttonEl.style.display =\n",
              "          google.colab.kernel.accessAllowed ? 'block' : 'none';\n",
              "\n",
              "        async function convertToInteractive(key) {\n",
              "          const element = document.querySelector('#df-671cf9a5-a72f-4ef4-a8ef-814f74fc14e2');\n",
              "          const dataTable =\n",
              "            await google.colab.kernel.invokeFunction('convertToInteractive',\n",
              "                                                     [key], {});\n",
              "          if (!dataTable) return;\n",
              "\n",
              "          const docLinkHtml = 'Like what you see? Visit the ' +\n",
              "            '<a target=\"_blank\" href=https://colab.research.google.com/notebooks/data_table.ipynb>data table notebook</a>'\n",
              "            + ' to learn more about interactive tables.';\n",
              "          element.innerHTML = '';\n",
              "          dataTable['output_type'] = 'display_data';\n",
              "          await google.colab.output.renderOutput(dataTable, element);\n",
              "          const docLink = document.createElement('div');\n",
              "          docLink.innerHTML = docLinkHtml;\n",
              "          element.appendChild(docLink);\n",
              "        }\n",
              "      </script>\n",
              "    </div>\n",
              "  </div>\n",
              "  "
            ]
          },
          "metadata": {},
          "execution_count": 174
        }
      ]
    },
    {
      "cell_type": "code",
      "source": [
        "#missing value strategy\n",
        "print(df.Certificate.dtypes) #object, strategy = most_frequent\n",
        "print(df.Metascore.dtypes) #float, strategy = mean"
      ],
      "metadata": {
        "colab": {
          "base_uri": "https://localhost:8080/"
        },
        "id": "4tPXH0h2f8Sg",
        "outputId": "6e8f6429-ba25-47ae-fa76-8c24a322bef5"
      },
      "execution_count": null,
      "outputs": [
        {
          "output_type": "stream",
          "name": "stdout",
          "text": [
            "object\n",
            "float64\n"
          ]
        }
      ]
    },
    {
      "cell_type": "code",
      "source": [
        "#finding index of the columns with NaN\n",
        "print(df.columns.get_loc('Certificate')) #index 2, mostrequent\n",
        "print(df.columns.get_loc('Metascore'))  #index 6, mean"
      ],
      "metadata": {
        "colab": {
          "base_uri": "https://localhost:8080/"
        },
        "id": "1iip7JgRikZe",
        "outputId": "80368ab9-f35d-47e5-d112-4428dc5550d1"
      },
      "execution_count": null,
      "outputs": [
        {
          "output_type": "stream",
          "name": "stdout",
          "text": [
            "2\n",
            "6\n"
          ]
        }
      ]
    },
    {
      "cell_type": "code",
      "source": [
        "#nan removed from df.Certificate with mode\n",
        "from sklearn.impute import SimpleImputer\n",
        "imputer = SimpleImputer(missing_values= np.nan, strategy='most_frequent')\n",
        "imputer.fit(df.iloc[:,2:3])\n",
        "df.iloc[:, 2:3] = imputer.transform(df.iloc[:, 2:3])"
      ],
      "metadata": {
        "id": "NWOcpUU1gmJ9"
      },
      "execution_count": null,
      "outputs": []
    },
    {
      "cell_type": "code",
      "source": [
        "#nan removed from df.metascore with mean\n",
        "from sklearn.impute import SimpleImputer\n",
        "imputer2 = SimpleImputer(missing_values= np.nan, strategy='mean')\n",
        "imputer2.fit(df.iloc[:, 6:7])\n",
        "df.iloc[:, 6:7] = imputer2.transform(df.iloc[:, 6:7])"
      ],
      "metadata": {
        "id": "nM310PBoh-xz"
      },
      "execution_count": null,
      "outputs": []
    },
    {
      "cell_type": "code",
      "source": [
        "df.isna().sum() #no missing values"
      ],
      "metadata": {
        "colab": {
          "base_uri": "https://localhost:8080/"
        },
        "id": "23VLtulDkbbr",
        "outputId": "a309ea8c-f7ee-4454-f65d-080ce13c2738"
      },
      "execution_count": null,
      "outputs": [
        {
          "output_type": "execute_result",
          "data": {
            "text/plain": [
              "Unnamed: 0     0\n",
              "Title          0\n",
              "Certificate    0\n",
              "Duration       0\n",
              "Genre          0\n",
              "Rate           0\n",
              "Metascore      0\n",
              "Description    0\n",
              "Cast           0\n",
              "Info           0\n",
              "dtype: int64"
            ]
          },
          "metadata": {},
          "execution_count": 179
        }
      ]
    },
    {
      "cell_type": "code",
      "source": [
        "#feature engineering\n",
        "df.head(4)\n",
        "#both df.Cast and df.Info can be separated into 2 columns."
      ],
      "metadata": {
        "colab": {
          "base_uri": "https://localhost:8080/",
          "height": 305
        },
        "id": "Ov0KBmfVkygN",
        "outputId": "b1b2e350-d903-4742-d69b-0dbbf093b97f"
      },
      "execution_count": null,
      "outputs": [
        {
          "output_type": "execute_result",
          "data": {
            "text/plain": [
              "   Unnamed: 0                               Title Certificate Duration  \\\n",
              "0           0  1. The Shawshank Redemption (1994)           R  142 min   \n",
              "1           1             2. The Godfather (1972)           R  175 min   \n",
              "2           2           3. The Dark Knight (2008)       PG-13  152 min   \n",
              "3           3    4. The Godfather: Part II (1974)           R  202 min   \n",
              "\n",
              "                  Genre  Rate  Metascore  \\\n",
              "0                 Drama   9.3       80.0   \n",
              "1          Crime, Drama   9.2      100.0   \n",
              "2  Action, Crime, Drama   9.0       84.0   \n",
              "3          Crime, Drama   9.0       90.0   \n",
              "\n",
              "                                         Description  \\\n",
              "0  Two imprisoned men bond over a number of years...   \n",
              "1  The aging patriarch of an organized crime dyna...   \n",
              "2  When the menace known as the Joker wreaks havo...   \n",
              "3  The early life and career of Vito Corleone in ...   \n",
              "\n",
              "                                                Cast  \\\n",
              "0  Director: Frank Darabont | Stars: Tim Robbins,...   \n",
              "1  Director: Francis Ford Coppola | Stars: Marlon...   \n",
              "2  Director: Christopher Nolan | Stars: Christian...   \n",
              "3  Director: Francis Ford Coppola | Stars: Al Pac...   \n",
              "\n",
              "                                 Info  \n",
              "0   Votes: 2,295,987 | Gross: $28.34M  \n",
              "1  Votes: 1,584,782 | Gross: $134.97M  \n",
              "2  Votes: 2,260,649 | Gross: $534.86M  \n",
              "3   Votes: 1,107,253 | Gross: $57.30M  "
            ],
            "text/html": [
              "\n",
              "  <div id=\"df-50ce59df-9d52-4fff-b7da-4ad09ffebba8\">\n",
              "    <div class=\"colab-df-container\">\n",
              "      <div>\n",
              "<style scoped>\n",
              "    .dataframe tbody tr th:only-of-type {\n",
              "        vertical-align: middle;\n",
              "    }\n",
              "\n",
              "    .dataframe tbody tr th {\n",
              "        vertical-align: top;\n",
              "    }\n",
              "\n",
              "    .dataframe thead th {\n",
              "        text-align: right;\n",
              "    }\n",
              "</style>\n",
              "<table border=\"1\" class=\"dataframe\">\n",
              "  <thead>\n",
              "    <tr style=\"text-align: right;\">\n",
              "      <th></th>\n",
              "      <th>Unnamed: 0</th>\n",
              "      <th>Title</th>\n",
              "      <th>Certificate</th>\n",
              "      <th>Duration</th>\n",
              "      <th>Genre</th>\n",
              "      <th>Rate</th>\n",
              "      <th>Metascore</th>\n",
              "      <th>Description</th>\n",
              "      <th>Cast</th>\n",
              "      <th>Info</th>\n",
              "    </tr>\n",
              "  </thead>\n",
              "  <tbody>\n",
              "    <tr>\n",
              "      <th>0</th>\n",
              "      <td>0</td>\n",
              "      <td>1. The Shawshank Redemption (1994)</td>\n",
              "      <td>R</td>\n",
              "      <td>142 min</td>\n",
              "      <td>Drama</td>\n",
              "      <td>9.3</td>\n",
              "      <td>80.0</td>\n",
              "      <td>Two imprisoned men bond over a number of years...</td>\n",
              "      <td>Director: Frank Darabont | Stars: Tim Robbins,...</td>\n",
              "      <td>Votes: 2,295,987 | Gross: $28.34M</td>\n",
              "    </tr>\n",
              "    <tr>\n",
              "      <th>1</th>\n",
              "      <td>1</td>\n",
              "      <td>2. The Godfather (1972)</td>\n",
              "      <td>R</td>\n",
              "      <td>175 min</td>\n",
              "      <td>Crime, Drama</td>\n",
              "      <td>9.2</td>\n",
              "      <td>100.0</td>\n",
              "      <td>The aging patriarch of an organized crime dyna...</td>\n",
              "      <td>Director: Francis Ford Coppola | Stars: Marlon...</td>\n",
              "      <td>Votes: 1,584,782 | Gross: $134.97M</td>\n",
              "    </tr>\n",
              "    <tr>\n",
              "      <th>2</th>\n",
              "      <td>2</td>\n",
              "      <td>3. The Dark Knight (2008)</td>\n",
              "      <td>PG-13</td>\n",
              "      <td>152 min</td>\n",
              "      <td>Action, Crime, Drama</td>\n",
              "      <td>9.0</td>\n",
              "      <td>84.0</td>\n",
              "      <td>When the menace known as the Joker wreaks havo...</td>\n",
              "      <td>Director: Christopher Nolan | Stars: Christian...</td>\n",
              "      <td>Votes: 2,260,649 | Gross: $534.86M</td>\n",
              "    </tr>\n",
              "    <tr>\n",
              "      <th>3</th>\n",
              "      <td>3</td>\n",
              "      <td>4. The Godfather: Part II (1974)</td>\n",
              "      <td>R</td>\n",
              "      <td>202 min</td>\n",
              "      <td>Crime, Drama</td>\n",
              "      <td>9.0</td>\n",
              "      <td>90.0</td>\n",
              "      <td>The early life and career of Vito Corleone in ...</td>\n",
              "      <td>Director: Francis Ford Coppola | Stars: Al Pac...</td>\n",
              "      <td>Votes: 1,107,253 | Gross: $57.30M</td>\n",
              "    </tr>\n",
              "  </tbody>\n",
              "</table>\n",
              "</div>\n",
              "      <button class=\"colab-df-convert\" onclick=\"convertToInteractive('df-50ce59df-9d52-4fff-b7da-4ad09ffebba8')\"\n",
              "              title=\"Convert this dataframe to an interactive table.\"\n",
              "              style=\"display:none;\">\n",
              "        \n",
              "  <svg xmlns=\"http://www.w3.org/2000/svg\" height=\"24px\"viewBox=\"0 0 24 24\"\n",
              "       width=\"24px\">\n",
              "    <path d=\"M0 0h24v24H0V0z\" fill=\"none\"/>\n",
              "    <path d=\"M18.56 5.44l.94 2.06.94-2.06 2.06-.94-2.06-.94-.94-2.06-.94 2.06-2.06.94zm-11 1L8.5 8.5l.94-2.06 2.06-.94-2.06-.94L8.5 2.5l-.94 2.06-2.06.94zm10 10l.94 2.06.94-2.06 2.06-.94-2.06-.94-.94-2.06-.94 2.06-2.06.94z\"/><path d=\"M17.41 7.96l-1.37-1.37c-.4-.4-.92-.59-1.43-.59-.52 0-1.04.2-1.43.59L10.3 9.45l-7.72 7.72c-.78.78-.78 2.05 0 2.83L4 21.41c.39.39.9.59 1.41.59.51 0 1.02-.2 1.41-.59l7.78-7.78 2.81-2.81c.8-.78.8-2.07 0-2.86zM5.41 20L4 18.59l7.72-7.72 1.47 1.35L5.41 20z\"/>\n",
              "  </svg>\n",
              "      </button>\n",
              "      \n",
              "  <style>\n",
              "    .colab-df-container {\n",
              "      display:flex;\n",
              "      flex-wrap:wrap;\n",
              "      gap: 12px;\n",
              "    }\n",
              "\n",
              "    .colab-df-convert {\n",
              "      background-color: #E8F0FE;\n",
              "      border: none;\n",
              "      border-radius: 50%;\n",
              "      cursor: pointer;\n",
              "      display: none;\n",
              "      fill: #1967D2;\n",
              "      height: 32px;\n",
              "      padding: 0 0 0 0;\n",
              "      width: 32px;\n",
              "    }\n",
              "\n",
              "    .colab-df-convert:hover {\n",
              "      background-color: #E2EBFA;\n",
              "      box-shadow: 0px 1px 2px rgba(60, 64, 67, 0.3), 0px 1px 3px 1px rgba(60, 64, 67, 0.15);\n",
              "      fill: #174EA6;\n",
              "    }\n",
              "\n",
              "    [theme=dark] .colab-df-convert {\n",
              "      background-color: #3B4455;\n",
              "      fill: #D2E3FC;\n",
              "    }\n",
              "\n",
              "    [theme=dark] .colab-df-convert:hover {\n",
              "      background-color: #434B5C;\n",
              "      box-shadow: 0px 1px 3px 1px rgba(0, 0, 0, 0.15);\n",
              "      filter: drop-shadow(0px 1px 2px rgba(0, 0, 0, 0.3));\n",
              "      fill: #FFFFFF;\n",
              "    }\n",
              "  </style>\n",
              "\n",
              "      <script>\n",
              "        const buttonEl =\n",
              "          document.querySelector('#df-50ce59df-9d52-4fff-b7da-4ad09ffebba8 button.colab-df-convert');\n",
              "        buttonEl.style.display =\n",
              "          google.colab.kernel.accessAllowed ? 'block' : 'none';\n",
              "\n",
              "        async function convertToInteractive(key) {\n",
              "          const element = document.querySelector('#df-50ce59df-9d52-4fff-b7da-4ad09ffebba8');\n",
              "          const dataTable =\n",
              "            await google.colab.kernel.invokeFunction('convertToInteractive',\n",
              "                                                     [key], {});\n",
              "          if (!dataTable) return;\n",
              "\n",
              "          const docLinkHtml = 'Like what you see? Visit the ' +\n",
              "            '<a target=\"_blank\" href=https://colab.research.google.com/notebooks/data_table.ipynb>data table notebook</a>'\n",
              "            + ' to learn more about interactive tables.';\n",
              "          element.innerHTML = '';\n",
              "          dataTable['output_type'] = 'display_data';\n",
              "          await google.colab.output.renderOutput(dataTable, element);\n",
              "          const docLink = document.createElement('div');\n",
              "          docLink.innerHTML = docLinkHtml;\n",
              "          element.appendChild(docLink);\n",
              "        }\n",
              "      </script>\n",
              "    </div>\n",
              "  </div>\n",
              "  "
            ]
          },
          "metadata": {},
          "execution_count": 180
        }
      ]
    },
    {
      "cell_type": "code",
      "source": [
        "#split df.Cast and df.Info\n",
        "df[['Director', 'Stars']] = df['Cast'].str.split('|', expand=True) #in Cast column, string function split is used, 'expand = True' creates 2 new columns.\n",
        "df[['Votes', 'Gross']] = df['Info'].str.split('|', expand=True)"
      ],
      "metadata": {
        "id": "bftuNUkLmqbQ"
      },
      "execution_count": null,
      "outputs": []
    },
    {
      "cell_type": "code",
      "source": [
        "df.head(3)"
      ],
      "metadata": {
        "colab": {
          "base_uri": "https://localhost:8080/",
          "height": 378
        },
        "id": "4D7iw0yKmsEP",
        "outputId": "62cbdadc-7873-4524-e697-89ab31721079"
      },
      "execution_count": null,
      "outputs": [
        {
          "output_type": "execute_result",
          "data": {
            "text/plain": [
              "   Unnamed: 0                               Title Certificate Duration  \\\n",
              "0           0  1. The Shawshank Redemption (1994)           R  142 min   \n",
              "1           1             2. The Godfather (1972)           R  175 min   \n",
              "2           2           3. The Dark Knight (2008)       PG-13  152 min   \n",
              "\n",
              "                  Genre  Rate  Metascore  \\\n",
              "0                 Drama   9.3       80.0   \n",
              "1          Crime, Drama   9.2      100.0   \n",
              "2  Action, Crime, Drama   9.0       84.0   \n",
              "\n",
              "                                         Description  \\\n",
              "0  Two imprisoned men bond over a number of years...   \n",
              "1  The aging patriarch of an organized crime dyna...   \n",
              "2  When the menace known as the Joker wreaks havo...   \n",
              "\n",
              "                                                Cast  \\\n",
              "0  Director: Frank Darabont | Stars: Tim Robbins,...   \n",
              "1  Director: Francis Ford Coppola | Stars: Marlon...   \n",
              "2  Director: Christopher Nolan | Stars: Christian...   \n",
              "\n",
              "                                 Info                         Director  \\\n",
              "0   Votes: 2,295,987 | Gross: $28.34M        Director: Frank Darabont    \n",
              "1  Votes: 1,584,782 | Gross: $134.97M  Director: Francis Ford Coppola    \n",
              "2  Votes: 2,260,649 | Gross: $534.86M     Director: Christopher Nolan    \n",
              "\n",
              "                                               Stars              Votes  \\\n",
              "0   Stars: Tim Robbins, Morgan Freeman, Bob Gunto...  Votes: 2,295,987    \n",
              "1   Stars: Marlon Brando, Al Pacino, James Caan, ...  Votes: 1,584,782    \n",
              "2   Stars: Christian Bale, Heath Ledger, Aaron Ec...  Votes: 2,260,649    \n",
              "\n",
              "              Gross  \n",
              "0    Gross: $28.34M  \n",
              "1   Gross: $134.97M  \n",
              "2   Gross: $534.86M  "
            ],
            "text/html": [
              "\n",
              "  <div id=\"df-5a804ef5-8dfc-4e1d-9810-3baa6e40d6bc\">\n",
              "    <div class=\"colab-df-container\">\n",
              "      <div>\n",
              "<style scoped>\n",
              "    .dataframe tbody tr th:only-of-type {\n",
              "        vertical-align: middle;\n",
              "    }\n",
              "\n",
              "    .dataframe tbody tr th {\n",
              "        vertical-align: top;\n",
              "    }\n",
              "\n",
              "    .dataframe thead th {\n",
              "        text-align: right;\n",
              "    }\n",
              "</style>\n",
              "<table border=\"1\" class=\"dataframe\">\n",
              "  <thead>\n",
              "    <tr style=\"text-align: right;\">\n",
              "      <th></th>\n",
              "      <th>Unnamed: 0</th>\n",
              "      <th>Title</th>\n",
              "      <th>Certificate</th>\n",
              "      <th>Duration</th>\n",
              "      <th>Genre</th>\n",
              "      <th>Rate</th>\n",
              "      <th>Metascore</th>\n",
              "      <th>Description</th>\n",
              "      <th>Cast</th>\n",
              "      <th>Info</th>\n",
              "      <th>Director</th>\n",
              "      <th>Stars</th>\n",
              "      <th>Votes</th>\n",
              "      <th>Gross</th>\n",
              "    </tr>\n",
              "  </thead>\n",
              "  <tbody>\n",
              "    <tr>\n",
              "      <th>0</th>\n",
              "      <td>0</td>\n",
              "      <td>1. The Shawshank Redemption (1994)</td>\n",
              "      <td>R</td>\n",
              "      <td>142 min</td>\n",
              "      <td>Drama</td>\n",
              "      <td>9.3</td>\n",
              "      <td>80.0</td>\n",
              "      <td>Two imprisoned men bond over a number of years...</td>\n",
              "      <td>Director: Frank Darabont | Stars: Tim Robbins,...</td>\n",
              "      <td>Votes: 2,295,987 | Gross: $28.34M</td>\n",
              "      <td>Director: Frank Darabont</td>\n",
              "      <td>Stars: Tim Robbins, Morgan Freeman, Bob Gunto...</td>\n",
              "      <td>Votes: 2,295,987</td>\n",
              "      <td>Gross: $28.34M</td>\n",
              "    </tr>\n",
              "    <tr>\n",
              "      <th>1</th>\n",
              "      <td>1</td>\n",
              "      <td>2. The Godfather (1972)</td>\n",
              "      <td>R</td>\n",
              "      <td>175 min</td>\n",
              "      <td>Crime, Drama</td>\n",
              "      <td>9.2</td>\n",
              "      <td>100.0</td>\n",
              "      <td>The aging patriarch of an organized crime dyna...</td>\n",
              "      <td>Director: Francis Ford Coppola | Stars: Marlon...</td>\n",
              "      <td>Votes: 1,584,782 | Gross: $134.97M</td>\n",
              "      <td>Director: Francis Ford Coppola</td>\n",
              "      <td>Stars: Marlon Brando, Al Pacino, James Caan, ...</td>\n",
              "      <td>Votes: 1,584,782</td>\n",
              "      <td>Gross: $134.97M</td>\n",
              "    </tr>\n",
              "    <tr>\n",
              "      <th>2</th>\n",
              "      <td>2</td>\n",
              "      <td>3. The Dark Knight (2008)</td>\n",
              "      <td>PG-13</td>\n",
              "      <td>152 min</td>\n",
              "      <td>Action, Crime, Drama</td>\n",
              "      <td>9.0</td>\n",
              "      <td>84.0</td>\n",
              "      <td>When the menace known as the Joker wreaks havo...</td>\n",
              "      <td>Director: Christopher Nolan | Stars: Christian...</td>\n",
              "      <td>Votes: 2,260,649 | Gross: $534.86M</td>\n",
              "      <td>Director: Christopher Nolan</td>\n",
              "      <td>Stars: Christian Bale, Heath Ledger, Aaron Ec...</td>\n",
              "      <td>Votes: 2,260,649</td>\n",
              "      <td>Gross: $534.86M</td>\n",
              "    </tr>\n",
              "  </tbody>\n",
              "</table>\n",
              "</div>\n",
              "      <button class=\"colab-df-convert\" onclick=\"convertToInteractive('df-5a804ef5-8dfc-4e1d-9810-3baa6e40d6bc')\"\n",
              "              title=\"Convert this dataframe to an interactive table.\"\n",
              "              style=\"display:none;\">\n",
              "        \n",
              "  <svg xmlns=\"http://www.w3.org/2000/svg\" height=\"24px\"viewBox=\"0 0 24 24\"\n",
              "       width=\"24px\">\n",
              "    <path d=\"M0 0h24v24H0V0z\" fill=\"none\"/>\n",
              "    <path d=\"M18.56 5.44l.94 2.06.94-2.06 2.06-.94-2.06-.94-.94-2.06-.94 2.06-2.06.94zm-11 1L8.5 8.5l.94-2.06 2.06-.94-2.06-.94L8.5 2.5l-.94 2.06-2.06.94zm10 10l.94 2.06.94-2.06 2.06-.94-2.06-.94-.94-2.06-.94 2.06-2.06.94z\"/><path d=\"M17.41 7.96l-1.37-1.37c-.4-.4-.92-.59-1.43-.59-.52 0-1.04.2-1.43.59L10.3 9.45l-7.72 7.72c-.78.78-.78 2.05 0 2.83L4 21.41c.39.39.9.59 1.41.59.51 0 1.02-.2 1.41-.59l7.78-7.78 2.81-2.81c.8-.78.8-2.07 0-2.86zM5.41 20L4 18.59l7.72-7.72 1.47 1.35L5.41 20z\"/>\n",
              "  </svg>\n",
              "      </button>\n",
              "      \n",
              "  <style>\n",
              "    .colab-df-container {\n",
              "      display:flex;\n",
              "      flex-wrap:wrap;\n",
              "      gap: 12px;\n",
              "    }\n",
              "\n",
              "    .colab-df-convert {\n",
              "      background-color: #E8F0FE;\n",
              "      border: none;\n",
              "      border-radius: 50%;\n",
              "      cursor: pointer;\n",
              "      display: none;\n",
              "      fill: #1967D2;\n",
              "      height: 32px;\n",
              "      padding: 0 0 0 0;\n",
              "      width: 32px;\n",
              "    }\n",
              "\n",
              "    .colab-df-convert:hover {\n",
              "      background-color: #E2EBFA;\n",
              "      box-shadow: 0px 1px 2px rgba(60, 64, 67, 0.3), 0px 1px 3px 1px rgba(60, 64, 67, 0.15);\n",
              "      fill: #174EA6;\n",
              "    }\n",
              "\n",
              "    [theme=dark] .colab-df-convert {\n",
              "      background-color: #3B4455;\n",
              "      fill: #D2E3FC;\n",
              "    }\n",
              "\n",
              "    [theme=dark] .colab-df-convert:hover {\n",
              "      background-color: #434B5C;\n",
              "      box-shadow: 0px 1px 3px 1px rgba(0, 0, 0, 0.15);\n",
              "      filter: drop-shadow(0px 1px 2px rgba(0, 0, 0, 0.3));\n",
              "      fill: #FFFFFF;\n",
              "    }\n",
              "  </style>\n",
              "\n",
              "      <script>\n",
              "        const buttonEl =\n",
              "          document.querySelector('#df-5a804ef5-8dfc-4e1d-9810-3baa6e40d6bc button.colab-df-convert');\n",
              "        buttonEl.style.display =\n",
              "          google.colab.kernel.accessAllowed ? 'block' : 'none';\n",
              "\n",
              "        async function convertToInteractive(key) {\n",
              "          const element = document.querySelector('#df-5a804ef5-8dfc-4e1d-9810-3baa6e40d6bc');\n",
              "          const dataTable =\n",
              "            await google.colab.kernel.invokeFunction('convertToInteractive',\n",
              "                                                     [key], {});\n",
              "          if (!dataTable) return;\n",
              "\n",
              "          const docLinkHtml = 'Like what you see? Visit the ' +\n",
              "            '<a target=\"_blank\" href=https://colab.research.google.com/notebooks/data_table.ipynb>data table notebook</a>'\n",
              "            + ' to learn more about interactive tables.';\n",
              "          element.innerHTML = '';\n",
              "          dataTable['output_type'] = 'display_data';\n",
              "          await google.colab.output.renderOutput(dataTable, element);\n",
              "          const docLink = document.createElement('div');\n",
              "          docLink.innerHTML = docLinkHtml;\n",
              "          element.appendChild(docLink);\n",
              "        }\n",
              "      </script>\n",
              "    </div>\n",
              "  </div>\n",
              "  "
            ]
          },
          "metadata": {},
          "execution_count": 182
        }
      ]
    },
    {
      "cell_type": "code",
      "source": [
        "df['Director'] = df['Director'].str.replace('Director:', '')\n",
        "df['Director'] = df['Director'].str.strip()\n",
        "\n",
        "df['Stars'] = df['Stars'].str.replace('Stars:', '')\n",
        "df['Stars'] = df['Stars'].str.strip()\n",
        "\n",
        "df['Votes'] = df['Votes'].str.replace('Votes:', '')\n",
        "df['Votes'] = df['Votes'].str.strip()\n",
        "\n",
        "df['Gross'] = df['Gross'].str.replace('Gross:', '')\n",
        "df['Gross'] = df['Gross'].str.strip()"
      ],
      "metadata": {
        "id": "M-0mrGxin3F7"
      },
      "execution_count": null,
      "outputs": []
    },
    {
      "cell_type": "code",
      "source": [
        "#removing $ and M from gross collection, and comma from votes\n",
        "df['Gross'] = df['Gross'].str.replace('$', '')\n",
        "df['Gross'] = df['Gross'].str.strip()\n",
        "\n",
        "df['Gross'] = df['Gross'].str.replace('M', '')\n",
        "df['Gross'] = df['Gross'].str.strip()\n",
        "\n",
        "\n",
        "\n",
        "df['Votes'] = df['Votes'].str.replace(',', '')\n",
        "df['Votes'] = df['Votes'].str.strip()"
      ],
      "metadata": {
        "colab": {
          "base_uri": "https://localhost:8080/"
        },
        "id": "axIOx1HPvX7H",
        "outputId": "f281f52b-e931-4297-a6a2-24abe9f1c4da"
      },
      "execution_count": null,
      "outputs": [
        {
          "output_type": "stream",
          "name": "stderr",
          "text": [
            "<ipython-input-184-01ed8e3dce3f>:2: FutureWarning: The default value of regex will change from True to False in a future version. In addition, single character regular expressions will *not* be treated as literal strings when regex=True.\n",
            "  df['Gross'] = df['Gross'].str.replace('$', '')\n"
          ]
        }
      ]
    },
    {
      "cell_type": "code",
      "source": [
        "df.head(3)\n",
        "print(df['Gross'].dtypes)\n",
        "df['Gross'] = pd.to_numeric(df['Gross'], errors = 'coerce')\n",
        "df['Votes'] = pd.to_numeric(df['Votes'], errors = 'coerce')\n",
        "df = df.rename(columns={'Gross': 'Gross(M)'})"
      ],
      "metadata": {
        "colab": {
          "base_uri": "https://localhost:8080/"
        },
        "id": "dnmlcPJep6hO",
        "outputId": "ef8282b4-6666-4a84-da0f-8c69532fff55"
      },
      "execution_count": null,
      "outputs": [
        {
          "output_type": "stream",
          "name": "stdout",
          "text": [
            "object\n"
          ]
        }
      ]
    },
    {
      "cell_type": "code",
      "source": [
        "print(df.dtypes)\n",
        "#initial data processing is complete"
      ],
      "metadata": {
        "colab": {
          "base_uri": "https://localhost:8080/"
        },
        "id": "7_cKYX_SsRV6",
        "outputId": "178724cf-5d82-401f-f90b-c0b3cee5bce8"
      },
      "execution_count": null,
      "outputs": [
        {
          "output_type": "stream",
          "name": "stdout",
          "text": [
            "Unnamed: 0       int64\n",
            "Title           object\n",
            "Certificate     object\n",
            "Duration        object\n",
            "Genre           object\n",
            "Rate           float64\n",
            "Metascore      float64\n",
            "Description     object\n",
            "Cast            object\n",
            "Info            object\n",
            "Director        object\n",
            "Stars           object\n",
            "Votes            int64\n",
            "Gross(M)       float64\n",
            "dtype: object\n"
          ]
        }
      ]
    },
    {
      "cell_type": "code",
      "source": [
        "df.head(4)"
      ],
      "metadata": {
        "colab": {
          "base_uri": "https://localhost:8080/",
          "height": 444
        },
        "id": "Nd5C9VHLvvR4",
        "outputId": "8877b3fa-3b68-46ae-ad4c-a02e915a0b84"
      },
      "execution_count": null,
      "outputs": [
        {
          "output_type": "execute_result",
          "data": {
            "text/plain": [
              "   Unnamed: 0                               Title Certificate Duration  \\\n",
              "0           0  1. The Shawshank Redemption (1994)           R  142 min   \n",
              "1           1             2. The Godfather (1972)           R  175 min   \n",
              "2           2           3. The Dark Knight (2008)       PG-13  152 min   \n",
              "3           3    4. The Godfather: Part II (1974)           R  202 min   \n",
              "\n",
              "                  Genre  Rate  Metascore  \\\n",
              "0                 Drama   9.3       80.0   \n",
              "1          Crime, Drama   9.2      100.0   \n",
              "2  Action, Crime, Drama   9.0       84.0   \n",
              "3          Crime, Drama   9.0       90.0   \n",
              "\n",
              "                                         Description  \\\n",
              "0  Two imprisoned men bond over a number of years...   \n",
              "1  The aging patriarch of an organized crime dyna...   \n",
              "2  When the menace known as the Joker wreaks havo...   \n",
              "3  The early life and career of Vito Corleone in ...   \n",
              "\n",
              "                                                Cast  \\\n",
              "0  Director: Frank Darabont | Stars: Tim Robbins,...   \n",
              "1  Director: Francis Ford Coppola | Stars: Marlon...   \n",
              "2  Director: Christopher Nolan | Stars: Christian...   \n",
              "3  Director: Francis Ford Coppola | Stars: Al Pac...   \n",
              "\n",
              "                                 Info              Director  \\\n",
              "0   Votes: 2,295,987 | Gross: $28.34M        Frank Darabont   \n",
              "1  Votes: 1,584,782 | Gross: $134.97M  Francis Ford Coppola   \n",
              "2  Votes: 2,260,649 | Gross: $534.86M     Christopher Nolan   \n",
              "3   Votes: 1,107,253 | Gross: $57.30M  Francis Ford Coppola   \n",
              "\n",
              "                                               Stars    Votes  Gross(M)  \n",
              "0  Tim Robbins, Morgan Freeman, Bob Gunton, Willi...  2295987     28.34  \n",
              "1  Marlon Brando, Al Pacino, James Caan, Diane Ke...  1584782    134.97  \n",
              "2  Christian Bale, Heath Ledger, Aaron Eckhart, M...  2260649    534.86  \n",
              "3  Al Pacino, Robert De Niro, Robert Duvall, Dian...  1107253     57.30  "
            ],
            "text/html": [
              "\n",
              "  <div id=\"df-6555984e-e197-4166-9a7d-783c14cc5f37\">\n",
              "    <div class=\"colab-df-container\">\n",
              "      <div>\n",
              "<style scoped>\n",
              "    .dataframe tbody tr th:only-of-type {\n",
              "        vertical-align: middle;\n",
              "    }\n",
              "\n",
              "    .dataframe tbody tr th {\n",
              "        vertical-align: top;\n",
              "    }\n",
              "\n",
              "    .dataframe thead th {\n",
              "        text-align: right;\n",
              "    }\n",
              "</style>\n",
              "<table border=\"1\" class=\"dataframe\">\n",
              "  <thead>\n",
              "    <tr style=\"text-align: right;\">\n",
              "      <th></th>\n",
              "      <th>Unnamed: 0</th>\n",
              "      <th>Title</th>\n",
              "      <th>Certificate</th>\n",
              "      <th>Duration</th>\n",
              "      <th>Genre</th>\n",
              "      <th>Rate</th>\n",
              "      <th>Metascore</th>\n",
              "      <th>Description</th>\n",
              "      <th>Cast</th>\n",
              "      <th>Info</th>\n",
              "      <th>Director</th>\n",
              "      <th>Stars</th>\n",
              "      <th>Votes</th>\n",
              "      <th>Gross(M)</th>\n",
              "    </tr>\n",
              "  </thead>\n",
              "  <tbody>\n",
              "    <tr>\n",
              "      <th>0</th>\n",
              "      <td>0</td>\n",
              "      <td>1. The Shawshank Redemption (1994)</td>\n",
              "      <td>R</td>\n",
              "      <td>142 min</td>\n",
              "      <td>Drama</td>\n",
              "      <td>9.3</td>\n",
              "      <td>80.0</td>\n",
              "      <td>Two imprisoned men bond over a number of years...</td>\n",
              "      <td>Director: Frank Darabont | Stars: Tim Robbins,...</td>\n",
              "      <td>Votes: 2,295,987 | Gross: $28.34M</td>\n",
              "      <td>Frank Darabont</td>\n",
              "      <td>Tim Robbins, Morgan Freeman, Bob Gunton, Willi...</td>\n",
              "      <td>2295987</td>\n",
              "      <td>28.34</td>\n",
              "    </tr>\n",
              "    <tr>\n",
              "      <th>1</th>\n",
              "      <td>1</td>\n",
              "      <td>2. The Godfather (1972)</td>\n",
              "      <td>R</td>\n",
              "      <td>175 min</td>\n",
              "      <td>Crime, Drama</td>\n",
              "      <td>9.2</td>\n",
              "      <td>100.0</td>\n",
              "      <td>The aging patriarch of an organized crime dyna...</td>\n",
              "      <td>Director: Francis Ford Coppola | Stars: Marlon...</td>\n",
              "      <td>Votes: 1,584,782 | Gross: $134.97M</td>\n",
              "      <td>Francis Ford Coppola</td>\n",
              "      <td>Marlon Brando, Al Pacino, James Caan, Diane Ke...</td>\n",
              "      <td>1584782</td>\n",
              "      <td>134.97</td>\n",
              "    </tr>\n",
              "    <tr>\n",
              "      <th>2</th>\n",
              "      <td>2</td>\n",
              "      <td>3. The Dark Knight (2008)</td>\n",
              "      <td>PG-13</td>\n",
              "      <td>152 min</td>\n",
              "      <td>Action, Crime, Drama</td>\n",
              "      <td>9.0</td>\n",
              "      <td>84.0</td>\n",
              "      <td>When the menace known as the Joker wreaks havo...</td>\n",
              "      <td>Director: Christopher Nolan | Stars: Christian...</td>\n",
              "      <td>Votes: 2,260,649 | Gross: $534.86M</td>\n",
              "      <td>Christopher Nolan</td>\n",
              "      <td>Christian Bale, Heath Ledger, Aaron Eckhart, M...</td>\n",
              "      <td>2260649</td>\n",
              "      <td>534.86</td>\n",
              "    </tr>\n",
              "    <tr>\n",
              "      <th>3</th>\n",
              "      <td>3</td>\n",
              "      <td>4. The Godfather: Part II (1974)</td>\n",
              "      <td>R</td>\n",
              "      <td>202 min</td>\n",
              "      <td>Crime, Drama</td>\n",
              "      <td>9.0</td>\n",
              "      <td>90.0</td>\n",
              "      <td>The early life and career of Vito Corleone in ...</td>\n",
              "      <td>Director: Francis Ford Coppola | Stars: Al Pac...</td>\n",
              "      <td>Votes: 1,107,253 | Gross: $57.30M</td>\n",
              "      <td>Francis Ford Coppola</td>\n",
              "      <td>Al Pacino, Robert De Niro, Robert Duvall, Dian...</td>\n",
              "      <td>1107253</td>\n",
              "      <td>57.30</td>\n",
              "    </tr>\n",
              "  </tbody>\n",
              "</table>\n",
              "</div>\n",
              "      <button class=\"colab-df-convert\" onclick=\"convertToInteractive('df-6555984e-e197-4166-9a7d-783c14cc5f37')\"\n",
              "              title=\"Convert this dataframe to an interactive table.\"\n",
              "              style=\"display:none;\">\n",
              "        \n",
              "  <svg xmlns=\"http://www.w3.org/2000/svg\" height=\"24px\"viewBox=\"0 0 24 24\"\n",
              "       width=\"24px\">\n",
              "    <path d=\"M0 0h24v24H0V0z\" fill=\"none\"/>\n",
              "    <path d=\"M18.56 5.44l.94 2.06.94-2.06 2.06-.94-2.06-.94-.94-2.06-.94 2.06-2.06.94zm-11 1L8.5 8.5l.94-2.06 2.06-.94-2.06-.94L8.5 2.5l-.94 2.06-2.06.94zm10 10l.94 2.06.94-2.06 2.06-.94-2.06-.94-.94-2.06-.94 2.06-2.06.94z\"/><path d=\"M17.41 7.96l-1.37-1.37c-.4-.4-.92-.59-1.43-.59-.52 0-1.04.2-1.43.59L10.3 9.45l-7.72 7.72c-.78.78-.78 2.05 0 2.83L4 21.41c.39.39.9.59 1.41.59.51 0 1.02-.2 1.41-.59l7.78-7.78 2.81-2.81c.8-.78.8-2.07 0-2.86zM5.41 20L4 18.59l7.72-7.72 1.47 1.35L5.41 20z\"/>\n",
              "  </svg>\n",
              "      </button>\n",
              "      \n",
              "  <style>\n",
              "    .colab-df-container {\n",
              "      display:flex;\n",
              "      flex-wrap:wrap;\n",
              "      gap: 12px;\n",
              "    }\n",
              "\n",
              "    .colab-df-convert {\n",
              "      background-color: #E8F0FE;\n",
              "      border: none;\n",
              "      border-radius: 50%;\n",
              "      cursor: pointer;\n",
              "      display: none;\n",
              "      fill: #1967D2;\n",
              "      height: 32px;\n",
              "      padding: 0 0 0 0;\n",
              "      width: 32px;\n",
              "    }\n",
              "\n",
              "    .colab-df-convert:hover {\n",
              "      background-color: #E2EBFA;\n",
              "      box-shadow: 0px 1px 2px rgba(60, 64, 67, 0.3), 0px 1px 3px 1px rgba(60, 64, 67, 0.15);\n",
              "      fill: #174EA6;\n",
              "    }\n",
              "\n",
              "    [theme=dark] .colab-df-convert {\n",
              "      background-color: #3B4455;\n",
              "      fill: #D2E3FC;\n",
              "    }\n",
              "\n",
              "    [theme=dark] .colab-df-convert:hover {\n",
              "      background-color: #434B5C;\n",
              "      box-shadow: 0px 1px 3px 1px rgba(0, 0, 0, 0.15);\n",
              "      filter: drop-shadow(0px 1px 2px rgba(0, 0, 0, 0.3));\n",
              "      fill: #FFFFFF;\n",
              "    }\n",
              "  </style>\n",
              "\n",
              "      <script>\n",
              "        const buttonEl =\n",
              "          document.querySelector('#df-6555984e-e197-4166-9a7d-783c14cc5f37 button.colab-df-convert');\n",
              "        buttonEl.style.display =\n",
              "          google.colab.kernel.accessAllowed ? 'block' : 'none';\n",
              "\n",
              "        async function convertToInteractive(key) {\n",
              "          const element = document.querySelector('#df-6555984e-e197-4166-9a7d-783c14cc5f37');\n",
              "          const dataTable =\n",
              "            await google.colab.kernel.invokeFunction('convertToInteractive',\n",
              "                                                     [key], {});\n",
              "          if (!dataTable) return;\n",
              "\n",
              "          const docLinkHtml = 'Like what you see? Visit the ' +\n",
              "            '<a target=\"_blank\" href=https://colab.research.google.com/notebooks/data_table.ipynb>data table notebook</a>'\n",
              "            + ' to learn more about interactive tables.';\n",
              "          element.innerHTML = '';\n",
              "          dataTable['output_type'] = 'display_data';\n",
              "          await google.colab.output.renderOutput(dataTable, element);\n",
              "          const docLink = document.createElement('div');\n",
              "          docLink.innerHTML = docLinkHtml;\n",
              "          element.appendChild(docLink);\n",
              "        }\n",
              "      </script>\n",
              "    </div>\n",
              "  </div>\n",
              "  "
            ]
          },
          "metadata": {},
          "execution_count": 187
        }
      ]
    },
    {
      "cell_type": "code",
      "source": [
        "#Task1. Filtering\n",
        "#1. Find top 10 imdb movies based on rating, votes, and gross\n",
        "\n",
        "#Rate\n",
        "top_10_ratings = df.nlargest(10, 'Rate')\n",
        "print(top_10_ratings[['Title', 'Rate']])"
      ],
      "metadata": {
        "colab": {
          "base_uri": "https://localhost:8080/"
        },
        "id": "V7eNfKe_sx4q",
        "outputId": "fc77c0bf-fa51-4d3d-e02e-14455e83e58d"
      },
      "execution_count": null,
      "outputs": [
        {
          "output_type": "stream",
          "name": "stdout",
          "text": [
            "                                               Title  Rate\n",
            "0                 1. The Shawshank Redemption (1994)   9.3\n",
            "1                            2. The Godfather (1972)   9.2\n",
            "2                          3. The Dark Knight (2008)   9.0\n",
            "3                   4. The Godfather: Part II (1974)   9.0\n",
            "4  5. The Lord of the Rings: The Return of the Ki...   8.9\n",
            "5                             6. Pulp Fiction (1994)   8.9\n",
            "6                         7. Schindler's List (1993)   8.9\n",
            "7                             8. 12 Angry Men (1957)   8.9\n",
            "8                                9. Inception (2010)   8.8\n",
            "9                              10. Fight Club (1999)   8.8\n"
          ]
        }
      ]
    },
    {
      "cell_type": "code",
      "source": [
        "#Gross\n",
        "top_10_gross = df.nlargest(10, 'Gross(M)')\n",
        "print(top_10_gross[['Title', 'Gross(M)']])"
      ],
      "metadata": {
        "colab": {
          "base_uri": "https://localhost:8080/"
        },
        "id": "nT27F1hwuiDU",
        "outputId": "c7abec78-79c7-4d3f-ef75-235aa19608af"
      },
      "execution_count": null,
      "outputs": [
        {
          "output_type": "stream",
          "name": "stdout",
          "text": [
            "                                 Title  Gross(M)\n",
            "58        59. Avengers: Endgame (2019)    858.37\n",
            "59   60. Avengers: Infinity War (2018)    678.82\n",
            "352           355. The Avengers (2012)    623.28\n",
            "452           355. The Avengers (2012)    623.28\n",
            "552           355. The Avengers (2012)    623.28\n",
            "652           355. The Avengers (2012)    623.28\n",
            "752           355. The Avengers (2012)    623.28\n",
            "852           355. The Avengers (2012)    623.28\n",
            "952           355. The Avengers (2012)    623.28\n",
            "2            3. The Dark Knight (2008)    534.86\n"
          ]
        }
      ]
    },
    {
      "cell_type": "code",
      "source": [
        "#602 movies in df.Title are duplicates, which must be removed\n",
        "duplicates = df['Title'].duplicated().sum()\n",
        "print(duplicates)\n",
        "\n",
        "# dupli = df['Title'].duplicated()\n",
        "# print(dupli)\n",
        "\n"
      ],
      "metadata": {
        "colab": {
          "base_uri": "https://localhost:8080/"
        },
        "id": "yXistfXxthiB",
        "outputId": "44acb8af-8f0f-4f31-9098-1278695e83b9"
      },
      "execution_count": null,
      "outputs": [
        {
          "output_type": "stream",
          "name": "stdout",
          "text": [
            "602\n"
          ]
        }
      ]
    },
    {
      "cell_type": "code",
      "source": [
        "df1 = df.drop_duplicates(subset='Title', keep='first') #keep = 'first' keeps 1st unique records and drops remaining ones"
      ],
      "metadata": {
        "id": "A3543MHm07c4"
      },
      "execution_count": null,
      "outputs": []
    },
    {
      "cell_type": "code",
      "source": [
        "duplicates = df1['Title'].duplicated().sum()\n",
        "print(duplicates)"
      ],
      "metadata": {
        "colab": {
          "base_uri": "https://localhost:8080/"
        },
        "id": "N5kFTS-F1F6O",
        "outputId": "89b274bd-ce98-465a-9092-681b49e58013"
      },
      "execution_count": null,
      "outputs": [
        {
          "output_type": "stream",
          "name": "stdout",
          "text": [
            "0\n"
          ]
        }
      ]
    },
    {
      "cell_type": "code",
      "source": [
        "df1.shape"
      ],
      "metadata": {
        "colab": {
          "base_uri": "https://localhost:8080/"
        },
        "id": "G5c5Waz51MzP",
        "outputId": "7e835ee5-d028-46a1-9536-fdf526b69646"
      },
      "execution_count": null,
      "outputs": [
        {
          "output_type": "execute_result",
          "data": {
            "text/plain": [
              "(398, 14)"
            ]
          },
          "metadata": {},
          "execution_count": 199
        }
      ]
    },
    {
      "cell_type": "code",
      "source": [
        "#top 10 based on Gross\n",
        "top_10_gross = df1.nlargest(10, 'Gross(M)')\n",
        "print(top_10_gross[['Title', 'Gross(M)']])"
      ],
      "metadata": {
        "colab": {
          "base_uri": "https://localhost:8080/"
        },
        "id": "XfSlVG8t1VZp",
        "outputId": "14eb7e56-4d29-4654-bd58-c998af200533"
      },
      "execution_count": null,
      "outputs": [
        {
          "output_type": "stream",
          "name": "stdout",
          "text": [
            "                                                 Title  Gross(M)\n",
            "58                        59. Avengers: Endgame (2019)    858.37\n",
            "59                   60. Avengers: Infinity War (2018)    678.82\n",
            "352                           355. The Avengers (2012)    623.28\n",
            "2                            3. The Dark Knight (2008)    534.86\n",
            "62                    63. The Dark Knight Rises (2012)    448.14\n",
            "42                            43. The Lion King (1994)    422.78\n",
            "92                              93. Toy Story 3 (2010)    415.00\n",
            "257                          260. Jurassic Park (1993)    402.45\n",
            "221  224. Harry Potter and the Deathly Hallows: Par...    381.01\n",
            "238                           241. Finding Nemo (2003)    380.84\n"
          ]
        }
      ]
    },
    {
      "cell_type": "code",
      "source": [
        "#top 10 based on votes\n",
        "top_10_votes = df1.nlargest(10, 'Votes')\n",
        "print(top_10_votes[['Title', 'Votes']])"
      ],
      "metadata": {
        "colab": {
          "base_uri": "https://localhost:8080/"
        },
        "id": "pY9ZgaA-1lYn",
        "outputId": "c79ba73b-a903-430c-89ec-a838ea591afb"
      },
      "execution_count": null,
      "outputs": [
        {
          "output_type": "stream",
          "name": "stdout",
          "text": [
            "                                                Title    Votes\n",
            "0                  1. The Shawshank Redemption (1994)  2295987\n",
            "2                           3. The Dark Knight (2008)  2260649\n",
            "8                                 9. Inception (2010)  2022655\n",
            "9                               10. Fight Club (1999)  1820268\n",
            "5                              6. Pulp Fiction (1994)  1792919\n",
            "11                            12. Forrest Gump (1994)  1769309\n",
            "15                              16. The Matrix (1999)  1643911\n",
            "10  11. The Lord of the Rings: The Fellowship of t...  1630106\n",
            "4   5. The Lord of the Rings: The Return of the Ki...  1614369\n",
            "1                             2. The Godfather (1972)  1584782\n"
          ]
        }
      ]
    },
    {
      "cell_type": "code",
      "source": [
        "#which director has highest appearance in top 100 imdb ratings\n",
        "\n",
        "df_rate_top100 = df1.nlargest(100, 'Rate')\n",
        "df_rate_top100['Director'].value_counts()"
      ],
      "metadata": {
        "colab": {
          "base_uri": "https://localhost:8080/"
        },
        "id": "b9GogQCk18JI",
        "outputId": "95fbdb1a-842a-47fb-9765-1666731c1dbd"
      },
      "execution_count": null,
      "outputs": [
        {
          "output_type": "execute_result",
          "data": {
            "text/plain": [
              "Christopher Nolan       6\n",
              "Peter Jackson           3\n",
              "Quentin Tarantino       3\n",
              "Steven Spielberg        3\n",
              "Stanley Kubrick         3\n",
              "                       ..\n",
              "James Cameron           1\n",
              "Giuseppe Tornatore      1\n",
              "Hrishikesh Mukherjee    1\n",
              "Michael Curtiz          1\n",
              "Gus Van Sant            1\n",
              "Name: Director, Length: 70, dtype: int64"
            ]
          },
          "metadata": {},
          "execution_count": 208
        }
      ]
    },
    {
      "cell_type": "code",
      "source": [
        "#Filter out movies by Christopher Nolan that are in top 100 imbd ratings\n",
        "df_nolan = df_rate_top100[df_rate_top100['Director']== \"Christopher Nolan\"]\n",
        "print(df_nolan[['Title', 'Rate']])"
      ],
      "metadata": {
        "colab": {
          "base_uri": "https://localhost:8080/"
        },
        "id": "VPcQtjht2pCr",
        "outputId": "a84c261a-0273-4e93-e989-5ba99f06efdb"
      },
      "execution_count": null,
      "outputs": [
        {
          "output_type": "stream",
          "name": "stdout",
          "text": [
            "                               Title  Rate\n",
            "2          3. The Dark Knight (2008)   9.0\n",
            "8                9. Inception (2010)   8.8\n",
            "20           21. Interstellar (2014)   8.6\n",
            "35           36. The Prestige (2006)   8.5\n",
            "62  63. The Dark Knight Rises (2012)   8.4\n",
            "68                69. Memento (2000)   8.4\n"
          ]
        }
      ]
    },
    {
      "cell_type": "code",
      "source": [
        "df_nolan = df1[df1['Director']== \"Christopher Nolan\"]\n",
        "print(df_nolan[['Title', 'Rate']])"
      ],
      "metadata": {
        "colab": {
          "base_uri": "https://localhost:8080/"
        },
        "id": "ePFeyYSP5QRg",
        "outputId": "6854b7d5-44b7-4730-d676-9bc8082f3d41"
      },
      "execution_count": null,
      "outputs": [
        {
          "output_type": "stream",
          "name": "stdout",
          "text": [
            "                                Title  Rate\n",
            "2           3. The Dark Knight (2008)   9.0\n",
            "8                 9. Inception (2010)   8.8\n",
            "20            21. Interstellar (2014)   8.6\n",
            "35            36. The Prestige (2006)   8.5\n",
            "62   63. The Dark Knight Rises (2012)   8.4\n",
            "68                 69. Memento (2000)   8.4\n",
            "153         154. Batman Begins (2005)   8.2\n"
          ]
        }
      ]
    },
    {
      "cell_type": "code",
      "source": [
        "df1.head(6)"
      ],
      "metadata": {
        "colab": {
          "base_uri": "https://localhost:8080/",
          "height": 171
        },
        "id": "9elRRDK3cEmG",
        "outputId": "45481142-2fb6-498f-a325-b0587831ae6d"
      },
      "execution_count": null,
      "outputs": [
        {
          "output_type": "error",
          "ename": "NameError",
          "evalue": "ignored",
          "traceback": [
            "\u001b[0;31m---------------------------------------------------------------------------\u001b[0m",
            "\u001b[0;31mNameError\u001b[0m                                 Traceback (most recent call last)",
            "\u001b[0;32m<ipython-input-1-3bf30d575d28>\u001b[0m in \u001b[0;36m<cell line: 1>\u001b[0;34m()\u001b[0m\n\u001b[0;32m----> 1\u001b[0;31m \u001b[0mdf1\u001b[0m\u001b[0;34m.\u001b[0m\u001b[0mhead\u001b[0m\u001b[0;34m(\u001b[0m\u001b[0;36m6\u001b[0m\u001b[0;34m)\u001b[0m\u001b[0;34m\u001b[0m\u001b[0;34m\u001b[0m\u001b[0m\n\u001b[0m",
            "\u001b[0;31mNameError\u001b[0m: name 'df1' is not defined"
          ]
        }
      ]
    }
  ]
}