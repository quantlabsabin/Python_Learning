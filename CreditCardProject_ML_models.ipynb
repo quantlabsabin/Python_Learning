{
  "nbformat": 4,
  "nbformat_minor": 0,
  "metadata": {
    "colab": {
      "provenance": [],
      "include_colab_link": true
    },
    "kernelspec": {
      "name": "python3",
      "display_name": "Python 3"
    },
    "language_info": {
      "name": "python"
    }
  },
  "cells": [
    {
      "cell_type": "markdown",
      "metadata": {
        "id": "view-in-github",
        "colab_type": "text"
      },
      "source": [
        "<a href=\"https://colab.research.google.com/github/quantlabsabin/Python_Learning/blob/Takeo_Projects/CreditCardProject_ML_models.ipynb\" target=\"_parent\"><img src=\"https://colab.research.google.com/assets/colab-badge.svg\" alt=\"Open In Colab\"/></a>"
      ]
    },
    {
      "cell_type": "code",
      "execution_count": null,
      "metadata": {
        "id": "kBXT_iz0--xL"
      },
      "outputs": [],
      "source": [
        "import pandas as pd\n",
        "import numpy as np\n",
        "import matplotlib.pyplot as plt\n",
        "from sklearn.preprocessing import LabelEncoder"
      ]
    },
    {
      "cell_type": "code",
      "source": [
        "from google.colab import drive\n",
        "drive.mount('/content/drive')"
      ],
      "metadata": {
        "colab": {
          "base_uri": "https://localhost:8080/"
        },
        "id": "A3NiBax_CliC",
        "outputId": "651f3ff1-6461-4a95-b2ae-0ff204d13fe1"
      },
      "execution_count": null,
      "outputs": [
        {
          "output_type": "stream",
          "name": "stdout",
          "text": [
            "Drive already mounted at /content/drive; to attempt to forcibly remount, call drive.mount(\"/content/drive\", force_remount=True).\n"
          ]
        }
      ]
    },
    {
      "cell_type": "code",
      "source": [
        "df=pd.read_csv(\"/content/drive/MyDrive/Credit card data/application_data.csv\")"
      ],
      "metadata": {
        "id": "oxhfQnU1_D18"
      },
      "execution_count": null,
      "outputs": []
    },
    {
      "cell_type": "code",
      "source": [
        "df.shape[0]"
      ],
      "metadata": {
        "colab": {
          "base_uri": "https://localhost:8080/"
        },
        "id": "mesdWOlfC1wR",
        "outputId": "29cb9bd5-d101-4255-cd08-2d106d777d16"
      },
      "execution_count": null,
      "outputs": [
        {
          "output_type": "execute_result",
          "data": {
            "text/plain": [
              "307511"
            ]
          },
          "metadata": {},
          "execution_count": 5
        }
      ]
    },
    {
      "cell_type": "markdown",
      "source": [
        "#Step 1: Dealing with categorical variables\n",
        "\n",
        "1) subset categorical features\n",
        "\n",
        "2) deal with NANs in categorical dataframe"
      ],
      "metadata": {
        "id": "rwHIkDmOJ7N9"
      }
    },
    {
      "cell_type": "code",
      "source": [
        "#subset of categorical features\n",
        "categorical_df = df.select_dtypes(include=['object', 'category'])\n",
        "categorical_df.shape"
      ],
      "metadata": {
        "colab": {
          "base_uri": "https://localhost:8080/"
        },
        "id": "om2b9_p3M53v",
        "outputId": "bd6c9f91-7786-4550-ebc5-abd6002fd93f"
      },
      "execution_count": null,
      "outputs": [
        {
          "output_type": "execute_result",
          "data": {
            "text/plain": [
              "(307511, 16)"
            ]
          },
          "metadata": {},
          "execution_count": 6
        }
      ]
    },
    {
      "cell_type": "code",
      "source": [
        "#missing values in categorical variables\n",
        "missing_values = categorical_df.isna().sum()\n",
        "print(missing_values)"
      ],
      "metadata": {
        "colab": {
          "base_uri": "https://localhost:8080/"
        },
        "id": "GuqTrvKNOnt1",
        "outputId": "1c3a1079-f18d-4658-f086-2278109bb286"
      },
      "execution_count": null,
      "outputs": [
        {
          "output_type": "stream",
          "name": "stdout",
          "text": [
            "NAME_CONTRACT_TYPE                 0\n",
            "CODE_GENDER                        0\n",
            "FLAG_OWN_CAR                       0\n",
            "FLAG_OWN_REALTY                    0\n",
            "NAME_TYPE_SUITE                 1292\n",
            "NAME_INCOME_TYPE                   0\n",
            "NAME_EDUCATION_TYPE                0\n",
            "NAME_FAMILY_STATUS                 0\n",
            "NAME_HOUSING_TYPE                  0\n",
            "OCCUPATION_TYPE                96391\n",
            "WEEKDAY_APPR_PROCESS_START         0\n",
            "ORGANIZATION_TYPE                  0\n",
            "FONDKAPREMONT_MODE            210295\n",
            "HOUSETYPE_MODE                154297\n",
            "WALLSMATERIAL_MODE            156341\n",
            "EMERGENCYSTATE_MODE           145755\n",
            "dtype: int64\n"
          ]
        }
      ]
    },
    {
      "cell_type": "markdown",
      "source": [
        "Except OCCUPATION_TYPE and NAME_TYPE_SUIT, other categorical variables having more than 50% of missing values can be removed\n"
      ],
      "metadata": {
        "id": "cBfMXbYUMZpt"
      }
    },
    {
      "cell_type": "code",
      "source": [
        "#remove variables with more than 50% NANs\n",
        "threshold = 100000\n",
        "filtered_categorical_df = categorical_df.loc[:, missing_values < threshold]\n",
        "filtered_categorical_df.shape"
      ],
      "metadata": {
        "colab": {
          "base_uri": "https://localhost:8080/"
        },
        "id": "mUih4zG3PuQq",
        "outputId": "c53f026e-f943-4113-a9bc-04fd66555662"
      },
      "execution_count": null,
      "outputs": [
        {
          "output_type": "execute_result",
          "data": {
            "text/plain": [
              "(307511, 12)"
            ]
          },
          "metadata": {},
          "execution_count": 8
        }
      ]
    },
    {
      "cell_type": "code",
      "source": [
        "#check missing values again\n",
        "miss_values = filtered_categorical_df.isna().sum()\n",
        "print(miss_values)"
      ],
      "metadata": {
        "colab": {
          "base_uri": "https://localhost:8080/"
        },
        "id": "7kJWLpUOQdDc",
        "outputId": "94d2427f-4cf9-4ab3-e8e1-7f88f68e7a03"
      },
      "execution_count": null,
      "outputs": [
        {
          "output_type": "stream",
          "name": "stdout",
          "text": [
            "NAME_CONTRACT_TYPE                0\n",
            "CODE_GENDER                       0\n",
            "FLAG_OWN_CAR                      0\n",
            "FLAG_OWN_REALTY                   0\n",
            "NAME_TYPE_SUITE                1292\n",
            "NAME_INCOME_TYPE                  0\n",
            "NAME_EDUCATION_TYPE               0\n",
            "NAME_FAMILY_STATUS                0\n",
            "NAME_HOUSING_TYPE                 0\n",
            "OCCUPATION_TYPE               96391\n",
            "WEEKDAY_APPR_PROCESS_START        0\n",
            "ORGANIZATION_TYPE                 0\n",
            "dtype: int64\n"
          ]
        }
      ]
    },
    {
      "cell_type": "code",
      "source": [
        "import matplotlib.pyplot as plt\n",
        "# Count the occurrences of each category\n",
        "category_counts = filtered_categorical_df['NAME_TYPE_SUITE'].value_counts()\n",
        "\n",
        "# Create the bar chart\n",
        "plt.bar(category_counts.index, category_counts.values)\n",
        "\n",
        "# Customize the chart\n",
        "plt.xlabel('Category')\n",
        "plt.ylabel('Count')\n",
        "plt.title('Bar Chart of NAME_TYPE_SUITE Categories')\n",
        "\n",
        "# Display the chart\n",
        "plt.show()"
      ],
      "metadata": {
        "colab": {
          "base_uri": "https://localhost:8080/",
          "height": 472
        },
        "id": "8CYDeKTOQ-ct",
        "outputId": "b8568c7d-3efc-417e-89fc-25a558ac4b21"
      },
      "execution_count": null,
      "outputs": [
        {
          "output_type": "display_data",
          "data": {
            "text/plain": [
              "<Figure size 640x480 with 1 Axes>"
            ],
            "image/png": "[encoded data removed]"
          },
          "metadata": {}
        }
      ]
    },
    {
      "cell_type": "code",
      "source": [
        "#replace NANs in NAME_TYPE_SUITE by Mode/most frequent\n",
        "from sklearn.impute import SimpleImputer\n",
        "imputer = SimpleImputer(strategy='most_frequent')\n",
        "imputer.fit(filtered_categorical_df[['NAME_TYPE_SUITE']])\n",
        "filtered_categorical_df['NAME_TYPE_SUITE'] = imputer.transform(filtered_categorical_df[['NAME_TYPE_SUITE']])"
      ],
      "metadata": {
        "colab": {
          "base_uri": "https://localhost:8080/"
        },
        "id": "wEJR1EBMRaZv",
        "outputId": "294756b1-48fe-456c-b365-c514928a7b84"
      },
      "execution_count": null,
      "outputs": [
        {
          "output_type": "stream",
          "name": "stderr",
          "text": [
            "<ipython-input-11-c30d61e388c0>:5: SettingWithCopyWarning: \n",
            "A value is trying to be set on a copy of a slice from a DataFrame.\n",
            "Try using .loc[row_indexer,col_indexer] = value instead\n",
            "\n",
            "See the caveats in the documentation: https://pandas.pydata.org/pandas-docs/stable/user_guide/indexing.html#returning-a-view-versus-a-copy\n",
            "  filtered_categorical_df['NAME_TYPE_SUITE'] = imputer.transform(filtered_categorical_df[['NAME_TYPE_SUITE']])\n"
          ]
        }
      ]
    },
    {
      "cell_type": "code",
      "source": [
        "#replace NANs in OCCUPATION by unknown\n",
        "filtered_categorical_df['OCCUPATION_TYPE'].fillna('unknown', inplace=True)"
      ],
      "metadata": {
        "colab": {
          "base_uri": "https://localhost:8080/"
        },
        "id": "wMMshy6yR_tw",
        "outputId": "1e43eeb3-d7bf-4cb2-e59b-2ee9376d353d"
      },
      "execution_count": null,
      "outputs": [
        {
          "output_type": "stream",
          "name": "stderr",
          "text": [
            "<ipython-input-12-992f4279318e>:2: SettingWithCopyWarning: \n",
            "A value is trying to be set on a copy of a slice from a DataFrame\n",
            "\n",
            "See the caveats in the documentation: https://pandas.pydata.org/pandas-docs/stable/user_guide/indexing.html#returning-a-view-versus-a-copy\n",
            "  filtered_categorical_df['OCCUPATION_TYPE'].fillna('unknown', inplace=True)\n"
          ]
        }
      ]
    },
    {
      "cell_type": "code",
      "source": [
        "filtered_categorical_df.isna().sum() #no missing values in categorical part"
      ],
      "metadata": {
        "colab": {
          "base_uri": "https://localhost:8080/"
        },
        "id": "6nJG6nHISGwB",
        "outputId": "5bc3c880-3f45-4900-e42d-3725cf2a7176"
      },
      "execution_count": null,
      "outputs": [
        {
          "output_type": "execute_result",
          "data": {
            "text/plain": [
              "NAME_CONTRACT_TYPE            0\n",
              "CODE_GENDER                   0\n",
              "FLAG_OWN_CAR                  0\n",
              "FLAG_OWN_REALTY               0\n",
              "NAME_TYPE_SUITE               0\n",
              "NAME_INCOME_TYPE              0\n",
              "NAME_EDUCATION_TYPE           0\n",
              "NAME_FAMILY_STATUS            0\n",
              "NAME_HOUSING_TYPE             0\n",
              "OCCUPATION_TYPE               0\n",
              "WEEKDAY_APPR_PROCESS_START    0\n",
              "ORGANIZATION_TYPE             0\n",
              "dtype: int64"
            ]
          },
          "metadata": {},
          "execution_count": 13
        }
      ]
    },
    {
      "cell_type": "code",
      "source": [
        "#adding a primary key in the clean categorical dataset\n",
        "filtered_categorical_df['SK_ID_CURR'] = df.iloc[:, 0]"
      ],
      "metadata": {
        "colab": {
          "base_uri": "https://localhost:8080/"
        },
        "id": "H7abhG9EU8vY",
        "outputId": "a0f1fd4f-3b11-4a51-8177-ba9cc0a03187"
      },
      "execution_count": null,
      "outputs": [
        {
          "output_type": "stream",
          "name": "stderr",
          "text": [
            "<ipython-input-14-5366f7238f7f>:2: SettingWithCopyWarning: \n",
            "A value is trying to be set on a copy of a slice from a DataFrame.\n",
            "Try using .loc[row_indexer,col_indexer] = value instead\n",
            "\n",
            "See the caveats in the documentation: https://pandas.pydata.org/pandas-docs/stable/user_guide/indexing.html#returning-a-view-versus-a-copy\n",
            "  filtered_categorical_df['SK_ID_CURR'] = df.iloc[:, 0]\n"
          ]
        }
      ]
    },
    {
      "cell_type": "markdown",
      "source": [
        "#Step 2: Dealing with numeric features\n",
        "\n",
        "1) create a dataframe of target values and numeric features\n",
        "\n",
        "2) Detect missing values and deal each variables accordingly"
      ],
      "metadata": {
        "id": "Cijj0IzoVWnZ"
      }
    },
    {
      "cell_type": "code",
      "source": [
        "numeric_df = df.select_dtypes(include='number')\n",
        "numeric_df.shape\n",
        "\n"
      ],
      "metadata": {
        "colab": {
          "base_uri": "https://localhost:8080/"
        },
        "id": "Kx5awzJJVmPF",
        "outputId": "f9f59c81-1472-4bdd-92c6-5da118d4b045"
      },
      "execution_count": null,
      "outputs": [
        {
          "output_type": "execute_result",
          "data": {
            "text/plain": [
              "(307511, 106)"
            ]
          },
          "metadata": {},
          "execution_count": 15
        }
      ]
    },
    {
      "cell_type": "code",
      "source": [
        "missing_val = numeric_df.isna().sum()\n",
        "print(missing_val)"
      ],
      "metadata": {
        "colab": {
          "base_uri": "https://localhost:8080/"
        },
        "id": "-l6X-w6oWVAS",
        "outputId": "3327b1a2-2e64-4294-a07b-b405dbfa1c08"
      },
      "execution_count": null,
      "outputs": [
        {
          "output_type": "stream",
          "name": "stdout",
          "text": [
            "SK_ID_CURR                        0\n",
            "TARGET                            0\n",
            "CNT_CHILDREN                      0\n",
            "AMT_INCOME_TOTAL                  0\n",
            "AMT_CREDIT                        0\n",
            "                              ...  \n",
            "AMT_REQ_CREDIT_BUREAU_DAY     41519\n",
            "AMT_REQ_CREDIT_BUREAU_WEEK    41519\n",
            "AMT_REQ_CREDIT_BUREAU_MON     41519\n",
            "AMT_REQ_CREDIT_BUREAU_QRT     41519\n",
            "AMT_REQ_CREDIT_BUREAU_YEAR    41519\n",
            "Length: 106, dtype: int64\n"
          ]
        }
      ]
    },
    {
      "cell_type": "code",
      "source": [
        "#remove features having >= 55% NANs, retain <45%\n",
        "threshold = 138880 #45% threshold\n",
        "numeric_df = numeric_df.loc[:, missing_val < threshold]\n",
        "numeric_df.shape"
      ],
      "metadata": {
        "colab": {
          "base_uri": "https://localhost:8080/"
        },
        "id": "tlIOWDalWtdJ",
        "outputId": "1dd58e82-dc04-4ef0-b835-bfb6b654dc77"
      },
      "execution_count": null,
      "outputs": [
        {
          "output_type": "execute_result",
          "data": {
            "text/plain": [
              "(307511, 61)"
            ]
          },
          "metadata": {},
          "execution_count": 17
        }
      ]
    },
    {
      "cell_type": "code",
      "source": [
        "#replace all numeric NANs with average\n",
        "imputer = SimpleImputer(strategy='mean')\n",
        "imputer.fit(numeric_df)\n",
        "numeric_df = pd.DataFrame(imputer.transform(numeric_df), columns=numeric_df.columns)"
      ],
      "metadata": {
        "id": "klcLZzWBYLXh"
      },
      "execution_count": null,
      "outputs": []
    },
    {
      "cell_type": "code",
      "source": [
        "#remove a pair from correlated features, if correlation > 85%\n",
        "# Set the correlation threshold value\n",
        "correlation_threshold = 0.90\n",
        "\n",
        "# Create an empty list to store correlated features to remove\n",
        "correlated_features_to_remove = []\n",
        "\n",
        "# Loop through the correlation matrix\n",
        "correlation_matrix = numeric_df.corr().abs()\n",
        "num_features = correlation_matrix.shape[0]\n",
        "for i in range(num_features):\n",
        "    for j in range(i+1, num_features):\n",
        "        if correlation_matrix.iloc[i, j] > correlation_threshold:\n",
        "            correlated_features_to_remove.append(correlation_matrix.columns[j])\n",
        "\n",
        "# Remove the correlated features\n",
        "numeric_df_filtered = numeric_df.drop(correlated_features_to_remove, axis=1)"
      ],
      "metadata": {
        "id": "JsGgt8klc_8O"
      },
      "execution_count": null,
      "outputs": []
    },
    {
      "cell_type": "code",
      "source": [
        "numeric_df_filtered['SK_ID_CURR'] = numeric_df_filtered['SK_ID_CURR'].astype(int)\n",
        "numeric_df_filtered.head(5)\n",
        "numeric_df_filtered.shape"
      ],
      "metadata": {
        "colab": {
          "base_uri": "https://localhost:8080/"
        },
        "id": "3TdfWkU3dFKE",
        "outputId": "aa6e6955-a9eb-48f7-b533-f3c1a56c2fbd"
      },
      "execution_count": null,
      "outputs": [
        {
          "output_type": "execute_result",
          "data": {
            "text/plain": [
              "(307511, 57)"
            ]
          },
          "metadata": {},
          "execution_count": 42
        }
      ]
    },
    {
      "cell_type": "code",
      "source": [],
      "metadata": {
        "id": "nnFPefccecLf"
      },
      "execution_count": null,
      "outputs": []
    },
    {
      "cell_type": "markdown",
      "source": [
        "#Step 3: Merge clean categorical and clean NUMERIC DATA"
      ],
      "metadata": {
        "id": "9MlQUtuNeIJj"
      }
    },
    {
      "cell_type": "code",
      "source": [
        "merged_df = numeric_df_filtered.merge(filtered_categorical_df, on='SK_ID_CURR', how='inner')"
      ],
      "metadata": {
        "id": "6MkmBQYXibiR"
      },
      "execution_count": null,
      "outputs": []
    },
    {
      "cell_type": "code",
      "source": [
        "merged_df.shape"
      ],
      "metadata": {
        "colab": {
          "base_uri": "https://localhost:8080/"
        },
        "id": "8ONf6T88elmH",
        "outputId": "222519d4-226a-4e6b-bb57-df458f61c7df"
      },
      "execution_count": null,
      "outputs": [
        {
          "output_type": "execute_result",
          "data": {
            "text/plain": [
              "(307511, 69)"
            ]
          },
          "metadata": {},
          "execution_count": 44
        }
      ]
    },
    {
      "cell_type": "code",
      "source": [
        "merged_df.head(5)\n",
        "print(merged_df.columns)"
      ],
      "metadata": {
        "colab": {
          "base_uri": "https://localhost:8080/"
        },
        "id": "f_EjmgtUi-0i",
        "outputId": "22af2148-1b47-45e2-b1d7-9a479328ff5b"
      },
      "execution_count": null,
      "outputs": [
        {
          "output_type": "stream",
          "name": "stdout",
          "text": [
            "Index(['SK_ID_CURR', 'TARGET', 'CNT_CHILDREN', 'AMT_INCOME_TOTAL',\n",
            "       'AMT_CREDIT', 'AMT_ANNUITY', 'REGION_POPULATION_RELATIVE', 'DAYS_BIRTH',\n",
            "       'DAYS_EMPLOYED', 'DAYS_REGISTRATION', 'DAYS_ID_PUBLISH', 'FLAG_MOBIL',\n",
            "       'FLAG_WORK_PHONE', 'FLAG_CONT_MOBILE', 'FLAG_PHONE', 'FLAG_EMAIL',\n",
            "       'CNT_FAM_MEMBERS', 'REGION_RATING_CLIENT', 'HOUR_APPR_PROCESS_START',\n",
            "       'REG_REGION_NOT_LIVE_REGION', 'REG_REGION_NOT_WORK_REGION',\n",
            "       'LIVE_REGION_NOT_WORK_REGION', 'REG_CITY_NOT_LIVE_CITY',\n",
            "       'REG_CITY_NOT_WORK_CITY', 'LIVE_CITY_NOT_WORK_CITY', 'EXT_SOURCE_2',\n",
            "       'EXT_SOURCE_3', 'OBS_30_CNT_SOCIAL_CIRCLE', 'DEF_30_CNT_SOCIAL_CIRCLE',\n",
            "       'DEF_60_CNT_SOCIAL_CIRCLE', 'DAYS_LAST_PHONE_CHANGE', 'FLAG_DOCUMENT_2',\n",
            "       'FLAG_DOCUMENT_3', 'FLAG_DOCUMENT_4', 'FLAG_DOCUMENT_5',\n",
            "       'FLAG_DOCUMENT_6', 'FLAG_DOCUMENT_7', 'FLAG_DOCUMENT_8',\n",
            "       'FLAG_DOCUMENT_9', 'FLAG_DOCUMENT_10', 'FLAG_DOCUMENT_11',\n",
            "       'FLAG_DOCUMENT_12', 'FLAG_DOCUMENT_13', 'FLAG_DOCUMENT_14',\n",
            "       'FLAG_DOCUMENT_15', 'FLAG_DOCUMENT_16', 'FLAG_DOCUMENT_17',\n",
            "       'FLAG_DOCUMENT_18', 'FLAG_DOCUMENT_19', 'FLAG_DOCUMENT_20',\n",
            "       'FLAG_DOCUMENT_21', 'AMT_REQ_CREDIT_BUREAU_HOUR',\n",
            "       'AMT_REQ_CREDIT_BUREAU_DAY', 'AMT_REQ_CREDIT_BUREAU_WEEK',\n",
            "       'AMT_REQ_CREDIT_BUREAU_MON', 'AMT_REQ_CREDIT_BUREAU_QRT',\n",
            "       'AMT_REQ_CREDIT_BUREAU_YEAR', 'NAME_CONTRACT_TYPE', 'CODE_GENDER',\n",
            "       'FLAG_OWN_CAR', 'FLAG_OWN_REALTY', 'NAME_TYPE_SUITE',\n",
            "       'NAME_INCOME_TYPE', 'NAME_EDUCATION_TYPE', 'NAME_FAMILY_STATUS',\n",
            "       'NAME_HOUSING_TYPE', 'OCCUPATION_TYPE', 'WEEKDAY_APPR_PROCESS_START',\n",
            "       'ORGANIZATION_TYPE'],\n",
            "      dtype='object')\n"
          ]
        }
      ]
    },
    {
      "cell_type": "code",
      "source": [
        "#next step:\n",
        "#set X and y\n",
        "#train test\n",
        "# normalization\n",
        "# models\n",
        "merged_df.shape"
      ],
      "metadata": {
        "colab": {
          "base_uri": "https://localhost:8080/"
        },
        "id": "v2n-OpxG29CW",
        "outputId": "592e0b7f-43f0-4811-ef5f-fb2bef8590bd"
      },
      "execution_count": null,
      "outputs": [
        {
          "output_type": "execute_result",
          "data": {
            "text/plain": [
              "(307511, 69)"
            ]
          },
          "metadata": {},
          "execution_count": 46
        }
      ]
    },
    {
      "cell_type": "code",
      "source": [
        "merged_df.drop([ 'SK_ID_CURR'], axis=1, inplace=True)\n",
        "merged_df.head(3)"
      ],
      "metadata": {
        "colab": {
          "base_uri": "https://localhost:8080/",
          "height": 271
        },
        "id": "GMyRlXti3BQ1",
        "outputId": "ea65610c-e399-4c1e-b39c-263884c60731"
      },
      "execution_count": null,
      "outputs": [
        {
          "output_type": "execute_result",
          "data": {
            "text/plain": [
              "   TARGET  CNT_CHILDREN  AMT_INCOME_TOTAL  AMT_CREDIT  AMT_ANNUITY  \\\n",
              "0     1.0           0.0          202500.0    406597.5      24700.5   \n",
              "1     0.0           0.0          270000.0   1293502.5      35698.5   \n",
              "2     0.0           0.0           67500.0    135000.0       6750.0   \n",
              "\n",
              "   REGION_POPULATION_RELATIVE  DAYS_BIRTH  DAYS_EMPLOYED  DAYS_REGISTRATION  \\\n",
              "0                    0.018801     -9461.0         -637.0            -3648.0   \n",
              "1                    0.003541    -16765.0        -1188.0            -1186.0   \n",
              "2                    0.010032    -19046.0         -225.0            -4260.0   \n",
              "\n",
              "   DAYS_ID_PUBLISH  ...  FLAG_OWN_CAR  FLAG_OWN_REALTY  NAME_TYPE_SUITE  \\\n",
              "0          -2120.0  ...             N                Y    Unaccompanied   \n",
              "1           -291.0  ...             N                N           Family   \n",
              "2          -2531.0  ...             Y                Y    Unaccompanied   \n",
              "\n",
              "   NAME_INCOME_TYPE            NAME_EDUCATION_TYPE    NAME_FAMILY_STATUS  \\\n",
              "0           Working  Secondary / secondary special  Single / not married   \n",
              "1     State servant               Higher education               Married   \n",
              "2           Working  Secondary / secondary special  Single / not married   \n",
              "\n",
              "   NAME_HOUSING_TYPE  OCCUPATION_TYPE  WEEKDAY_APPR_PROCESS_START  \\\n",
              "0  House / apartment         Laborers                   WEDNESDAY   \n",
              "1  House / apartment       Core staff                      MONDAY   \n",
              "2  House / apartment         Laborers                      MONDAY   \n",
              "\n",
              "        ORGANIZATION_TYPE  \n",
              "0  Business Entity Type 3  \n",
              "1                  School  \n",
              "2              Government  \n",
              "\n",
              "[3 rows x 68 columns]"
            ],
            "text/html": [
              "\n",
              "  <div id=\"df-c27123e7-8627-4190-b950-82fdc9c7284c\">\n",
              "    <div class=\"colab-df-container\">\n",
              "      <div>\n",
              "<style scoped>\n",
              "    .dataframe tbody tr th:only-of-type {\n",
              "        vertical-align: middle;\n",
              "    }\n",
              "\n",
              "    .dataframe tbody tr th {\n",
              "        vertical-align: top;\n",
              "    }\n",
              "\n",
              "    .dataframe thead th {\n",
              "        text-align: right;\n",
              "    }\n",
              "</style>\n",
              "<table border=\"1\" class=\"dataframe\">\n",
              "  <thead>\n",
              "    <tr style=\"text-align: right;\">\n",
              "      <th></th>\n",
              "      <th>TARGET</th>\n",
              "      <th>CNT_CHILDREN</th>\n",
              "      <th>AMT_INCOME_TOTAL</th>\n",
              "      <th>AMT_CREDIT</th>\n",
              "      <th>AMT_ANNUITY</th>\n",
              "      <th>REGION_POPULATION_RELATIVE</th>\n",
              "      <th>DAYS_BIRTH</th>\n",
              "      <th>DAYS_EMPLOYED</th>\n",
              "      <th>DAYS_REGISTRATION</th>\n",
              "      <th>DAYS_ID_PUBLISH</th>\n",
              "      <th>...</th>\n",
              "      <th>FLAG_OWN_CAR</th>\n",
              "      <th>FLAG_OWN_REALTY</th>\n",
              "      <th>NAME_TYPE_SUITE</th>\n",
              "      <th>NAME_INCOME_TYPE</th>\n",
              "      <th>NAME_EDUCATION_TYPE</th>\n",
              "      <th>NAME_FAMILY_STATUS</th>\n",
              "      <th>NAME_HOUSING_TYPE</th>\n",
              "      <th>OCCUPATION_TYPE</th>\n",
              "      <th>WEEKDAY_APPR_PROCESS_START</th>\n",
              "      <th>ORGANIZATION_TYPE</th>\n",
              "    </tr>\n",
              "  </thead>\n",
              "  <tbody>\n",
              "    <tr>\n",
              "      <th>0</th>\n",
              "      <td>1.0</td>\n",
              "      <td>0.0</td>\n",
              "      <td>202500.0</td>\n",
              "      <td>406597.5</td>\n",
              "      <td>24700.5</td>\n",
              "      <td>0.018801</td>\n",
              "      <td>-9461.0</td>\n",
              "      <td>-637.0</td>\n",
              "      <td>-3648.0</td>\n",
              "      <td>-2120.0</td>\n",
              "      <td>...</td>\n",
              "      <td>N</td>\n",
              "      <td>Y</td>\n",
              "      <td>Unaccompanied</td>\n",
              "      <td>Working</td>\n",
              "      <td>Secondary / secondary special</td>\n",
              "      <td>Single / not married</td>\n",
              "      <td>House / apartment</td>\n",
              "      <td>Laborers</td>\n",
              "      <td>WEDNESDAY</td>\n",
              "      <td>Business Entity Type 3</td>\n",
              "    </tr>\n",
              "    <tr>\n",
              "      <th>1</th>\n",
              "      <td>0.0</td>\n",
              "      <td>0.0</td>\n",
              "      <td>270000.0</td>\n",
              "      <td>1293502.5</td>\n",
              "      <td>35698.5</td>\n",
              "      <td>0.003541</td>\n",
              "      <td>-16765.0</td>\n",
              "      <td>-1188.0</td>\n",
              "      <td>-1186.0</td>\n",
              "      <td>-291.0</td>\n",
              "      <td>...</td>\n",
              "      <td>N</td>\n",
              "      <td>N</td>\n",
              "      <td>Family</td>\n",
              "      <td>State servant</td>\n",
              "      <td>Higher education</td>\n",
              "      <td>Married</td>\n",
              "      <td>House / apartment</td>\n",
              "      <td>Core staff</td>\n",
              "      <td>MONDAY</td>\n",
              "      <td>School</td>\n",
              "    </tr>\n",
              "    <tr>\n",
              "      <th>2</th>\n",
              "      <td>0.0</td>\n",
              "      <td>0.0</td>\n",
              "      <td>67500.0</td>\n",
              "      <td>135000.0</td>\n",
              "      <td>6750.0</td>\n",
              "      <td>0.010032</td>\n",
              "      <td>-19046.0</td>\n",
              "      <td>-225.0</td>\n",
              "      <td>-4260.0</td>\n",
              "      <td>-2531.0</td>\n",
              "      <td>...</td>\n",
              "      <td>Y</td>\n",
              "      <td>Y</td>\n",
              "      <td>Unaccompanied</td>\n",
              "      <td>Working</td>\n",
              "      <td>Secondary / secondary special</td>\n",
              "      <td>Single / not married</td>\n",
              "      <td>House / apartment</td>\n",
              "      <td>Laborers</td>\n",
              "      <td>MONDAY</td>\n",
              "      <td>Government</td>\n",
              "    </tr>\n",
              "  </tbody>\n",
              "</table>\n",
              "<p>3 rows × 68 columns</p>\n",
              "</div>\n",
              "      <button class=\"colab-df-convert\" onclick=\"convertToInteractive('df-c27123e7-8627-4190-b950-82fdc9c7284c')\"\n",
              "              title=\"Convert this dataframe to an interactive table.\"\n",
              "              style=\"display:none;\">\n",
              "        \n",
              "  <svg xmlns=\"http://www.w3.org/2000/svg\" height=\"24px\"viewBox=\"0 0 24 24\"\n",
              "       width=\"24px\">\n",
              "    <path d=\"M0 0h24v24H0V0z\" fill=\"none\"/>\n",
              "    <path d=\"M18.56 5.44l.94 2.06.94-2.06 2.06-.94-2.06-.94-.94-2.06-.94 2.06-2.06.94zm-11 1L8.5 8.5l.94-2.06 2.06-.94-2.06-.94L8.5 2.5l-.94 2.06-2.06.94zm10 10l.94 2.06.94-2.06 2.06-.94-2.06-.94-.94-2.06-.94 2.06-2.06.94z\"/><path d=\"M17.41 7.96l-1.37-1.37c-.4-.4-.92-.59-1.43-.59-.52 0-1.04.2-1.43.59L10.3 9.45l-7.72 7.72c-.78.78-.78 2.05 0 2.83L4 21.41c.39.39.9.59 1.41.59.51 0 1.02-.2 1.41-.59l7.78-7.78 2.81-2.81c.8-.78.8-2.07 0-2.86zM5.41 20L4 18.59l7.72-7.72 1.47 1.35L5.41 20z\"/>\n",
              "  </svg>\n",
              "      </button>\n",
              "      \n",
              "  <style>\n",
              "    .colab-df-container {\n",
              "      display:flex;\n",
              "      flex-wrap:wrap;\n",
              "      gap: 12px;\n",
              "    }\n",
              "\n",
              "    .colab-df-convert {\n",
              "      background-color: #E8F0FE;\n",
              "      border: none;\n",
              "      border-radius: 50%;\n",
              "      cursor: pointer;\n",
              "      display: none;\n",
              "      fill: #1967D2;\n",
              "      height: 32px;\n",
              "      padding: 0 0 0 0;\n",
              "      width: 32px;\n",
              "    }\n",
              "\n",
              "    .colab-df-convert:hover {\n",
              "      background-color: #E2EBFA;\n",
              "      box-shadow: 0px 1px 2px rgba(60, 64, 67, 0.3), 0px 1px 3px 1px rgba(60, 64, 67, 0.15);\n",
              "      fill: #174EA6;\n",
              "    }\n",
              "\n",
              "    [theme=dark] .colab-df-convert {\n",
              "      background-color: #3B4455;\n",
              "      fill: #D2E3FC;\n",
              "    }\n",
              "\n",
              "    [theme=dark] .colab-df-convert:hover {\n",
              "      background-color: #434B5C;\n",
              "      box-shadow: 0px 1px 3px 1px rgba(0, 0, 0, 0.15);\n",
              "      filter: drop-shadow(0px 1px 2px rgba(0, 0, 0, 0.3));\n",
              "      fill: #FFFFFF;\n",
              "    }\n",
              "  </style>\n",
              "\n",
              "      <script>\n",
              "        const buttonEl =\n",
              "          document.querySelector('#df-c27123e7-8627-4190-b950-82fdc9c7284c button.colab-df-convert');\n",
              "        buttonEl.style.display =\n",
              "          google.colab.kernel.accessAllowed ? 'block' : 'none';\n",
              "\n",
              "        async function convertToInteractive(key) {\n",
              "          const element = document.querySelector('#df-c27123e7-8627-4190-b950-82fdc9c7284c');\n",
              "          const dataTable =\n",
              "            await google.colab.kernel.invokeFunction('convertToInteractive',\n",
              "                                                     [key], {});\n",
              "          if (!dataTable) return;\n",
              "\n",
              "          const docLinkHtml = 'Like what you see? Visit the ' +\n",
              "            '<a target=\"_blank\" href=https://colab.research.google.com/notebooks/data_table.ipynb>data table notebook</a>'\n",
              "            + ' to learn more about interactive tables.';\n",
              "          element.innerHTML = '';\n",
              "          dataTable['output_type'] = 'display_data';\n",
              "          await google.colab.output.renderOutput(dataTable, element);\n",
              "          const docLink = document.createElement('div');\n",
              "          docLink.innerHTML = docLinkHtml;\n",
              "          element.appendChild(docLink);\n",
              "        }\n",
              "      </script>\n",
              "    </div>\n",
              "  </div>\n",
              "  "
            ]
          },
          "metadata": {},
          "execution_count": 50
        }
      ]
    },
    {
      "cell_type": "code",
      "source": [
        "import numpy as np"
      ],
      "metadata": {
        "id": "PEWqyA5g85pa"
      },
      "execution_count": null,
      "outputs": []
    },
    {
      "cell_type": "code",
      "source": [
        "#Dependent , independent\n",
        "y = merged_df.iloc[:, 0]\n",
        "X = merged_df.iloc[:, 1:]"
      ],
      "metadata": {
        "id": "XvqYiBej8bZg"
      },
      "execution_count": null,
      "outputs": []
    },
    {
      "cell_type": "code",
      "source": [
        "#categorical to dummies\n",
        "from sklearn.compose import ColumnTransformer\n",
        "from sklearn.preprocessing import OneHotEncoder\n",
        "\n",
        "cat_cols = X.select_dtypes(include=['object']).columns ## Identify the categorical columns\n",
        "\n",
        "ct = ColumnTransformer(transformers=[('encoder', OneHotEncoder(), cat_cols)],remainder='passthrough')\n",
        "# Keep the non-categorical columns as they are\n",
        "\n",
        "# Apply the column transformer to convert categorical variables into dummies\n",
        "X_encoded = pd.DataFrame(ct.fit_transform(X))\n",
        "\n",
        "# Print the transformed DataFrame\n",
        "print(X_encoded)"
      ],
      "metadata": {
        "colab": {
          "base_uri": "https://localhost:8080/"
        },
        "id": "qV75C2uX-ORN",
        "outputId": "b6543128-ccda-481c-fb9a-1d516c6edbfa"
      },
      "execution_count": null,
      "outputs": [
        {
          "output_type": "stream",
          "name": "stdout",
          "text": [
            "        0    1    2    3    4    5    6    7    8    9    ...  170  171  172  \\\n",
            "0       1.0  0.0  0.0  1.0  0.0  1.0  0.0  0.0  1.0  0.0  ...  0.0  0.0  0.0   \n",
            "1       1.0  0.0  1.0  0.0  0.0  1.0  0.0  1.0  0.0  0.0  ...  0.0  0.0  0.0   \n",
            "2       0.0  1.0  0.0  1.0  0.0  0.0  1.0  0.0  1.0  0.0  ...  0.0  0.0  0.0   \n",
            "3       1.0  0.0  1.0  0.0  0.0  1.0  0.0  0.0  1.0  0.0  ...  0.0  0.0  0.0   \n",
            "4       1.0  0.0  0.0  1.0  0.0  1.0  0.0  0.0  1.0  0.0  ...  0.0  0.0  0.0   \n",
            "...     ...  ...  ...  ...  ...  ...  ...  ...  ...  ...  ...  ...  ...  ...   \n",
            "307506  1.0  0.0  0.0  1.0  0.0  1.0  0.0  1.0  0.0  0.0  ...  0.0  0.0  0.0   \n",
            "307507  1.0  0.0  1.0  0.0  0.0  1.0  0.0  0.0  1.0  0.0  ...  0.0  0.0  0.0   \n",
            "307508  1.0  0.0  1.0  0.0  0.0  1.0  0.0  0.0  1.0  0.0  ...  0.0  0.0  0.0   \n",
            "307509  1.0  0.0  1.0  0.0  0.0  1.0  0.0  0.0  1.0  0.0  ...  0.0  0.0  0.0   \n",
            "307510  1.0  0.0  1.0  0.0  0.0  1.0  0.0  1.0  0.0  0.0  ...  0.0  0.0  0.0   \n",
            "\n",
            "        173       174    175       176       177       178       179  \n",
            "0       0.0  0.000000  0.000  0.000000  0.000000  0.000000  1.000000  \n",
            "1       0.0  0.000000  0.000  0.000000  0.000000  0.000000  0.000000  \n",
            "2       0.0  0.000000  0.000  0.000000  0.000000  0.000000  0.000000  \n",
            "3       0.0  0.006402  0.007  0.034362  0.267395  0.265474  1.899974  \n",
            "4       0.0  0.000000  0.000  0.000000  0.000000  0.000000  0.000000  \n",
            "...     ...       ...    ...       ...       ...       ...       ...  \n",
            "307506  0.0  0.006402  0.007  0.034362  0.267395  0.265474  1.899974  \n",
            "307507  0.0  0.006402  0.007  0.034362  0.267395  0.265474  1.899974  \n",
            "307508  0.0  1.000000  0.000  0.000000  1.000000  0.000000  1.000000  \n",
            "307509  0.0  0.000000  0.000  0.000000  0.000000  0.000000  0.000000  \n",
            "307510  0.0  0.000000  0.000  0.000000  2.000000  0.000000  1.000000  \n",
            "\n",
            "[307511 rows x 180 columns]\n"
          ]
        }
      ]
    },
    {
      "cell_type": "code",
      "source": [
        "print(type(X_encoded))"
      ],
      "metadata": {
        "colab": {
          "base_uri": "https://localhost:8080/"
        },
        "id": "SAC-L3wHAAAe",
        "outputId": "9f5f3519-6cc1-4dc5-ac5d-964e9d13da7c"
      },
      "execution_count": null,
      "outputs": [
        {
          "output_type": "stream",
          "name": "stdout",
          "text": [
            "<class 'pandas.core.frame.DataFrame'>\n"
          ]
        }
      ]
    },
    {
      "cell_type": "code",
      "source": [
        "#train test dataset\n",
        "from sklearn.model_selection import train_test_split\n",
        "X_train, X_test, y_train, y_test = train_test_split(X_encoded, y, test_size=0.2, random_state=42)"
      ],
      "metadata": {
        "id": "a9zslpJiBAmt"
      },
      "execution_count": null,
      "outputs": []
    },
    {
      "cell_type": "code",
      "source": [
        "#Normalization\n",
        "from sklearn.preprocessing import StandardScaler\n",
        "scaler = StandardScaler()\n",
        "\n",
        "# Fit the scaler on the training data\n",
        "scaler.fit(X_train)\n",
        "\n",
        "# Apply the scaler to transform the training and test data\n",
        "X_train_scaled = scaler.transform(X_train)\n",
        "X_test_scaled = scaler.transform(X_test)\n"
      ],
      "metadata": {
        "id": "8bVJ_6uHEmUr"
      },
      "execution_count": null,
      "outputs": []
    },
    {
      "cell_type": "code",
      "source": [
        "from sklearn.ensemble import RandomForestClassifier\n",
        "from sklearn.metrics import accuracy_score\n",
        "\n",
        "rf_classifier = RandomForestClassifier()\n",
        "rf_classifier.fit(X_train_scaled, y_train)\n",
        "\n",
        "# Make predictions on the test data\n",
        "y_pred = rf_classifier.predict(X_test_scaled)\n",
        "\n",
        "# Calculate the accuracy of the model\n",
        "accuracy = accuracy_score(y_test, y_pred)\n",
        "\n",
        "# Print the accuracy\n",
        "print(\"Accuracy:\", accuracy)\n"
      ],
      "metadata": {
        "colab": {
          "base_uri": "https://localhost:8080/"
        },
        "id": "Ma0VTj2FFrqp",
        "outputId": "990b7967-69a5-4de1-f377-ffec526310fc"
      },
      "execution_count": null,
      "outputs": [
        {
          "output_type": "stream",
          "name": "stdout",
          "text": [
            "Accuracy: 0.9195161211648212\n"
          ]
        }
      ]
    },
    {
      "cell_type": "code",
      "source": [
        "rf_classifier.feature_importance"
      ],
      "metadata": {
        "id": "Bc7JC9coOv50"
      },
      "execution_count": null,
      "outputs": []
    },
    {
      "cell_type": "code",
      "source": [
        "from sklearn.linear_model import LogisticRegression\n",
        "from sklearn.metrics import accuracy_score\n",
        "logreg = LogisticRegression()\n",
        "logreg.fit(X_train_scaled, y_train)\n",
        "\n",
        "# Make predictions on the test data\n",
        "y_pred = logreg.predict(X_test_scaled)\n",
        "\n",
        "# Calculate the accuracy of the model\n",
        "accuracy_lr = accuracy_score(y_test, y_pred)\n",
        "\n",
        "# Print the accuracy\n",
        "print(\"Accuracy of logistic:\", accuracy_lr)"
      ],
      "metadata": {
        "colab": {
          "base_uri": "https://localhost:8080/"
        },
        "id": "XZIP6HRjF_QE",
        "outputId": "727ad815-4d88-4c8b-e9ea-fbcf2c0094e0"
      },
      "execution_count": null,
      "outputs": [
        {
          "output_type": "stream",
          "name": "stdout",
          "text": [
            "Accuracy of logistic: 0.919386046209128\n"
          ]
        },
        {
          "output_type": "stream",
          "name": "stderr",
          "text": [
            "/usr/local/lib/python3.10/dist-packages/sklearn/linear_model/_logistic.py:458: ConvergenceWarning: lbfgs failed to converge (status=1):\n",
            "STOP: TOTAL NO. of ITERATIONS REACHED LIMIT.\n",
            "\n",
            "Increase the number of iterations (max_iter) or scale the data as shown in:\n",
            "    https://scikit-learn.org/stable/modules/preprocessing.html\n",
            "Please also refer to the documentation for alternative solver options:\n",
            "    https://scikit-learn.org/stable/modules/linear_model.html#logistic-regression\n",
            "  n_iter_i = _check_optimize_result(\n"
          ]
        }
      ]
    },
    {
      "cell_type": "code",
      "source": [
        "import tensorflow as tf\n",
        "from tensorflow import keras\n",
        "from sklearn.metrics import accuracy_score\n",
        "\n",
        "# Create the ANN model\n",
        "model = keras.Sequential([\n",
        "    keras.layers.Dense(64, activation='relu', input_shape=(X_train_scaled.shape[1],)),\n",
        "    keras.layers.Dense(64, activation='relu'),\n",
        "    keras.layers.Dense(1, activation='sigmoid')\n",
        "])\n",
        "\n",
        "# Compile the model\n",
        "model.compile(optimizer='adam', loss='binary_crossentropy', metrics=['accuracy'])\n",
        "\n",
        "# Train the model on the training data\n",
        "model.fit(X_train_scaled, y_train, epochs=4, batch_size=32)\n",
        "\n",
        "# Make predictions on the test data\n",
        "y_pred_prob = model.predict(X_test_scaled)\n",
        "y_pred = np.round(y_pred_prob).flatten().astype(int)\n",
        "\n",
        "# Calculate the accuracy of the model\n",
        "accuracy_ann = accuracy_score(y_test, y_pred)\n",
        "\n",
        "# Print the accuracy\n",
        "print(\"Accuracy:\", accuracy_ann)\n"
      ],
      "metadata": {
        "colab": {
          "base_uri": "https://localhost:8080/"
        },
        "id": "6Fo9ZqGJGT2O",
        "outputId": "d1a09f6a-7749-42f0-b22a-3d17169f0640"
      },
      "execution_count": null,
      "outputs": [
        {
          "output_type": "stream",
          "name": "stdout",
          "text": [
            "Epoch 1/4\n",
            "7688/7688 [==============================] - 19s 2ms/step - loss: 0.2588 - accuracy: 0.9190\n",
            "Epoch 2/4\n",
            "7688/7688 [==============================] - 20s 3ms/step - loss: 0.2524 - accuracy: 0.9192\n",
            "Epoch 3/4\n",
            "7688/7688 [==============================] - 18s 2ms/step - loss: 0.2507 - accuracy: 0.9193\n",
            "Epoch 4/4\n",
            "7688/7688 [==============================] - 18s 2ms/step - loss: 0.2492 - accuracy: 0.9194\n",
            "1922/1922 [==============================] - 4s 2ms/step\n",
            "Accuracy: 0.9197274929678227\n"
          ]
        }
      ]
    }
  ]
}